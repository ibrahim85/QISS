{
 "cells": [
  {
   "cell_type": "code",
   "execution_count": 1,
   "metadata": {},
   "outputs": [
    {
     "name": "stdout",
     "output_type": "stream",
     "text": [
      "/home/amit/Practice/test\n"
     ]
    }
   ],
   "source": [
    "cd .."
   ]
  },
  {
   "cell_type": "code",
   "execution_count": 2,
   "metadata": {
    "collapsed": true
   },
   "outputs": [],
   "source": [
    "%run lib/__init__.py\n",
    "%matplotlib inline"
   ]
  },
  {
   "cell_type": "markdown",
   "metadata": {},
   "source": [
    "# Semantic Search\n",
    "\n",
    "## Latent Semantic search - model development\n",
    "\n"
   ]
  },
  {
   "cell_type": "markdown",
   "metadata": {},
   "source": [
    "## Load articles from 'pagestest' collection MongoDB and create ' corpus ' for search engine"
   ]
  },
  {
   "cell_type": "code",
   "execution_count": 3,
   "metadata": {
    "collapsed": true
   },
   "outputs": [],
   "source": [
    "myWiki=MyWikiDB()"
   ]
  },
  {
   "cell_type": "code",
   "execution_count": 4,
   "metadata": {
    "collapsed": true
   },
   "outputs": [],
   "source": [
    "cat_loaded_cllr=myWiki.dbr.loads_collection"
   ]
  },
  {
   "cell_type": "code",
   "execution_count": 5,
   "metadata": {},
   "outputs": [
    {
     "data": {
      "text/html": [
       "<div>\n",
       "<style>\n",
       "    .dataframe thead tr:only-child th {\n",
       "        text-align: right;\n",
       "    }\n",
       "\n",
       "    .dataframe thead th {\n",
       "        text-align: left;\n",
       "    }\n",
       "\n",
       "    .dataframe tbody tr th {\n",
       "        vertical-align: top;\n",
       "    }\n",
       "</style>\n",
       "<table border=\"1\" class=\"dataframe\">\n",
       "  <thead>\n",
       "    <tr style=\"text-align: right;\">\n",
       "      <th></th>\n",
       "      <th>_id</th>\n",
       "      <th>loaded</th>\n",
       "      <th>master_cat</th>\n",
       "      <th>sub_cats_added</th>\n",
       "    </tr>\n",
       "  </thead>\n",
       "  <tbody>\n",
       "    <tr>\n",
       "      <th>0</th>\n",
       "      <td>5ae630f2023fe316d2ab7e88</td>\n",
       "      <td>Sun Apr 29 21:54:10 2018</td>\n",
       "      <td>Category:Classification algorithms</td>\n",
       "      <td>5</td>\n",
       "    </tr>\n",
       "  </tbody>\n",
       "</table>\n",
       "</div>"
      ],
      "text/plain": [
       "                        _id                    loaded  \\\n",
       "0  5ae630f2023fe316d2ab7e88  Sun Apr 29 21:54:10 2018   \n",
       "\n",
       "                           master_cat  sub_cats_added  \n",
       "0  Category:Classification algorithms               5  "
      ]
     },
     "execution_count": 5,
     "metadata": {},
     "output_type": "execute_result"
    }
   ],
   "source": [
    "#Load history - check which categories loaded \n",
    "cursor=cat_loaded_cllr.find()\n",
    "loaded=list(cursor)\n",
    "pd.DataFrame(loaded)"
   ]
  },
  {
   "cell_type": "code",
   "execution_count": 6,
   "metadata": {
    "collapsed": true
   },
   "outputs": [],
   "source": [
    "pagestest_cllr=myWiki.dbr.pagetest_collection"
   ]
  },
  {
   "cell_type": "code",
   "execution_count": 7,
   "metadata": {},
   "outputs": [
    {
     "name": "stdout",
     "output_type": "stream",
     "text": [
      "No. of pages loaded = 262\n"
     ]
    }
   ],
   "source": [
    "print('No. of pages loaded = {}'.format(pagestest_cllr.find().count()))"
   ]
  },
  {
   "cell_type": "code",
   "execution_count": 8,
   "metadata": {
    "collapsed": true
   },
   "outputs": [],
   "source": [
    "cursor=pagestest_cllr.find()\n",
    "pages=list(cursor)"
   ]
  },
  {
   "cell_type": "code",
   "execution_count": 9,
   "metadata": {},
   "outputs": [
    {
     "data": {
      "text/html": [
       "<div>\n",
       "<style>\n",
       "    .dataframe thead tr:only-child th {\n",
       "        text-align: right;\n",
       "    }\n",
       "\n",
       "    .dataframe thead th {\n",
       "        text-align: left;\n",
       "    }\n",
       "\n",
       "    .dataframe tbody tr th {\n",
       "        vertical-align: top;\n",
       "    }\n",
       "</style>\n",
       "<table border=\"1\" class=\"dataframe\">\n",
       "  <thead>\n",
       "    <tr style=\"text-align: right;\">\n",
       "      <th></th>\n",
       "      <th>_id</th>\n",
       "      <th>category_list</th>\n",
       "      <th>extract</th>\n",
       "      <th>ns</th>\n",
       "      <th>pageid</th>\n",
       "      <th>pull_category</th>\n",
       "      <th>title</th>\n",
       "    </tr>\n",
       "  </thead>\n",
       "  <tbody>\n",
       "    <tr>\n",
       "      <th>0</th>\n",
       "      <td>32003319</td>\n",
       "      <td>[Category:Algorithms and data structures stubs...</td>\n",
       "      <td>approximate near neighbor search special case ...</td>\n",
       "      <td>0</td>\n",
       "      <td>32003319</td>\n",
       "      <td>Category:Classification algorithms</td>\n",
       "      <td>(1+ε)-approximate nearest neighbor search</td>\n",
       "    </tr>\n",
       "    <tr>\n",
       "      <th>1</th>\n",
       "      <td>740955</td>\n",
       "      <td>[Category:Classification algorithms, Category:...</td>\n",
       "      <td>two main us term calibration statistic denote ...</td>\n",
       "      <td>0</td>\n",
       "      <td>740955</td>\n",
       "      <td>Category:Classification algorithms</td>\n",
       "      <td>Calibration (statistics)</td>\n",
       "    </tr>\n",
       "    <tr>\n",
       "      <th>2</th>\n",
       "      <td>843901</td>\n",
       "      <td>[Category:Classification algorithms]</td>\n",
       "      <td>soft independent modelling class analogy simca...</td>\n",
       "      <td>0</td>\n",
       "      <td>843901</td>\n",
       "      <td>Category:Classification algorithms</td>\n",
       "      <td>Soft independent modelling of class analogies</td>\n",
       "    </tr>\n",
       "    <tr>\n",
       "      <th>3</th>\n",
       "      <td>1579244</td>\n",
       "      <td>[Category:All articles lacking in-text citatio...</td>\n",
       "      <td>machine learning statistic classification prob...</td>\n",
       "      <td>0</td>\n",
       "      <td>1579244</td>\n",
       "      <td>Category:Classification algorithms</td>\n",
       "      <td>Statistical classification</td>\n",
       "    </tr>\n",
       "    <tr>\n",
       "      <th>4</th>\n",
       "      <td>27156903</td>\n",
       "      <td>[Category:Classification algorithms, Category:...</td>\n",
       "      <td>statistic adaptive variable bandwidth kernel d...</td>\n",
       "      <td>0</td>\n",
       "      <td>27156903</td>\n",
       "      <td>Category:Classification algorithms</td>\n",
       "      <td>Variable kernel density estimation</td>\n",
       "    </tr>\n",
       "  </tbody>\n",
       "</table>\n",
       "</div>"
      ],
      "text/plain": [
       "        _id                                      category_list  \\\n",
       "0  32003319  [Category:Algorithms and data structures stubs...   \n",
       "1    740955  [Category:Classification algorithms, Category:...   \n",
       "2    843901               [Category:Classification algorithms]   \n",
       "3   1579244  [Category:All articles lacking in-text citatio...   \n",
       "4  27156903  [Category:Classification algorithms, Category:...   \n",
       "\n",
       "                                             extract  ns    pageid  \\\n",
       "0  approximate near neighbor search special case ...   0  32003319   \n",
       "1  two main us term calibration statistic denote ...   0    740955   \n",
       "2  soft independent modelling class analogy simca...   0    843901   \n",
       "3  machine learning statistic classification prob...   0   1579244   \n",
       "4  statistic adaptive variable bandwidth kernel d...   0  27156903   \n",
       "\n",
       "                        pull_category  \\\n",
       "0  Category:Classification algorithms   \n",
       "1  Category:Classification algorithms   \n",
       "2  Category:Classification algorithms   \n",
       "3  Category:Classification algorithms   \n",
       "4  Category:Classification algorithms   \n",
       "\n",
       "                                           title  \n",
       "0      (1+ε)-approximate nearest neighbor search  \n",
       "1                       Calibration (statistics)  \n",
       "2  Soft independent modelling of class analogies  \n",
       "3                     Statistical classification  \n",
       "4             Variable kernel density estimation  "
      ]
     },
     "execution_count": 9,
     "metadata": {},
     "output_type": "execute_result"
    }
   ],
   "source": [
    "corpus_df=pd.DataFrame(pages[:1000])\n",
    "corpus_df.head()"
   ]
  },
  {
   "cell_type": "code",
   "execution_count": 10,
   "metadata": {
    "collapsed": true
   },
   "outputs": [],
   "source": [
    "#Remove unnecessary columns\n",
    "columns_to_drop=['ns', 'category_list','pull_category', '_id']\n",
    "corpus_df.drop(columns_to_drop, axis=1, inplace=True)"
   ]
  },
  {
   "cell_type": "code",
   "execution_count": 11,
   "metadata": {
    "collapsed": true
   },
   "outputs": [],
   "source": [
    "corpus_df.set_index('title', inplace=True)"
   ]
  },
  {
   "cell_type": "code",
   "execution_count": 12,
   "metadata": {
    "scrolled": true
   },
   "outputs": [
    {
     "data": {
      "text/html": [
       "<div>\n",
       "<style>\n",
       "    .dataframe thead tr:only-child th {\n",
       "        text-align: right;\n",
       "    }\n",
       "\n",
       "    .dataframe thead th {\n",
       "        text-align: left;\n",
       "    }\n",
       "\n",
       "    .dataframe tbody tr th {\n",
       "        vertical-align: top;\n",
       "    }\n",
       "</style>\n",
       "<table border=\"1\" class=\"dataframe\">\n",
       "  <thead>\n",
       "    <tr style=\"text-align: right;\">\n",
       "      <th></th>\n",
       "      <th>extract</th>\n",
       "      <th>pageid</th>\n",
       "    </tr>\n",
       "    <tr>\n",
       "      <th>title</th>\n",
       "      <th></th>\n",
       "      <th></th>\n",
       "    </tr>\n",
       "  </thead>\n",
       "  <tbody>\n",
       "    <tr>\n",
       "      <th>(1+ε)-approximate nearest neighbor search</th>\n",
       "      <td>approximate near neighbor search special case ...</td>\n",
       "      <td>32003319</td>\n",
       "    </tr>\n",
       "    <tr>\n",
       "      <th>Calibration (statistics)</th>\n",
       "      <td>two main us term calibration statistic denote ...</td>\n",
       "      <td>740955</td>\n",
       "    </tr>\n",
       "    <tr>\n",
       "      <th>Soft independent modelling of class analogies</th>\n",
       "      <td>soft independent modelling class analogy simca...</td>\n",
       "      <td>843901</td>\n",
       "    </tr>\n",
       "    <tr>\n",
       "      <th>Statistical classification</th>\n",
       "      <td>machine learning statistic classification prob...</td>\n",
       "      <td>1579244</td>\n",
       "    </tr>\n",
       "    <tr>\n",
       "      <th>Variable kernel density estimation</th>\n",
       "      <td>statistic adaptive variable bandwidth kernel d...</td>\n",
       "      <td>27156903</td>\n",
       "    </tr>\n",
       "  </tbody>\n",
       "</table>\n",
       "</div>"
      ],
      "text/plain": [
       "                                                                                         extract  \\\n",
       "title                                                                                              \n",
       "(1+ε)-approximate nearest neighbor search      approximate near neighbor search special case ...   \n",
       "Calibration (statistics)                       two main us term calibration statistic denote ...   \n",
       "Soft independent modelling of class analogies  soft independent modelling class analogy simca...   \n",
       "Statistical classification                     machine learning statistic classification prob...   \n",
       "Variable kernel density estimation             statistic adaptive variable bandwidth kernel d...   \n",
       "\n",
       "                                                 pageid  \n",
       "title                                                    \n",
       "(1+ε)-approximate nearest neighbor search      32003319  \n",
       "Calibration (statistics)                         740955  \n",
       "Soft independent modelling of class analogies    843901  \n",
       "Statistical classification                      1579244  \n",
       "Variable kernel density estimation             27156903  "
      ]
     },
     "execution_count": 12,
     "metadata": {},
     "output_type": "execute_result"
    }
   ],
   "source": [
    "corpus_df.head()"
   ]
  },
  {
   "cell_type": "code",
   "execution_count": 13,
   "metadata": {},
   "outputs": [
    {
     "name": "stdout",
     "output_type": "stream",
     "text": [
      "<class 'pandas.core.frame.DataFrame'>\n",
      "Index: 262 entries, (1+ε)-approximate nearest neighbor search to Wolfram Language\n",
      "Data columns (total 2 columns):\n",
      "extract    262 non-null object\n",
      "pageid     262 non-null int64\n",
      "dtypes: int64(1), object(1)\n",
      "memory usage: 6.1+ KB\n"
     ]
    }
   ],
   "source": [
    "corpus_df.info()"
   ]
  },
  {
   "cell_type": "markdown",
   "metadata": {},
   "source": [
    "## Abreviations to use in code\n",
    "* dtm = document term matrix\n",
    "* dtma= augmented document term matrix - including search term\n",
    "* sp = sparse as apposed to df = dataframe\n",
    "* svdm= singular value decomposition matrix  - by component\n",
    "* svdma= singular value decomposition augmented matrix  - including search term\n",
    "* tfidf_v= TFiDF Vectorizer\n",
    "* svd_v= svd vectorizer\n",
    "* lsa= Latent Semantic Analysis\n",
    "* sterm= search term"
   ]
  },
  {
   "cell_type": "markdown",
   "metadata": {},
   "source": [
    "### Label encode the title"
   ]
  },
  {
   "cell_type": "code",
   "execution_count": 14,
   "metadata": {
    "collapsed": true
   },
   "outputs": [],
   "source": [
    "from sklearn.preprocessing import LabelEncoder\n",
    "from sklearn.feature_extraction.text import TfidfVectorizer\n",
    "from sklearn.decomposition import TruncatedSVD\n",
    "from sklearn.metrics.pairwise import cosine_similarity\n",
    "from sklearn.pipeline import Pipeline"
   ]
  },
  {
   "cell_type": "code",
   "execution_count": 15,
   "metadata": {
    "collapsed": true
   },
   "outputs": [],
   "source": [
    "le=LabelEncoder()\n",
    "corpus_df['title_numerical'] = le.fit_transform(corpus_df.index)"
   ]
  },
  {
   "cell_type": "code",
   "execution_count": 16,
   "metadata": {},
   "outputs": [
    {
     "data": {
      "text/html": [
       "<div>\n",
       "<style>\n",
       "    .dataframe thead tr:only-child th {\n",
       "        text-align: right;\n",
       "    }\n",
       "\n",
       "    .dataframe thead th {\n",
       "        text-align: left;\n",
       "    }\n",
       "\n",
       "    .dataframe tbody tr th {\n",
       "        vertical-align: top;\n",
       "    }\n",
       "</style>\n",
       "<table border=\"1\" class=\"dataframe\">\n",
       "  <thead>\n",
       "    <tr style=\"text-align: right;\">\n",
       "      <th></th>\n",
       "      <th>extract</th>\n",
       "      <th>pageid</th>\n",
       "      <th>title_numerical</th>\n",
       "    </tr>\n",
       "    <tr>\n",
       "      <th>title</th>\n",
       "      <th></th>\n",
       "      <th></th>\n",
       "      <th></th>\n",
       "    </tr>\n",
       "  </thead>\n",
       "  <tbody>\n",
       "    <tr>\n",
       "      <th>(1+ε)-approximate nearest neighbor search</th>\n",
       "      <td>approximate near neighbor search special case ...</td>\n",
       "      <td>32003319</td>\n",
       "      <td>0</td>\n",
       "    </tr>\n",
       "    <tr>\n",
       "      <th>Calibration (statistics)</th>\n",
       "      <td>two main us term calibration statistic denote ...</td>\n",
       "      <td>740955</td>\n",
       "      <td>32</td>\n",
       "    </tr>\n",
       "    <tr>\n",
       "      <th>Soft independent modelling of class analogies</th>\n",
       "      <td>soft independent modelling class analogy simca...</td>\n",
       "      <td>843901</td>\n",
       "      <td>230</td>\n",
       "    </tr>\n",
       "    <tr>\n",
       "      <th>Statistical classification</th>\n",
       "      <td>machine learning statistic classification prob...</td>\n",
       "      <td>1579244</td>\n",
       "      <td>233</td>\n",
       "    </tr>\n",
       "  </tbody>\n",
       "</table>\n",
       "</div>"
      ],
      "text/plain": [
       "                                                                                         extract  \\\n",
       "title                                                                                              \n",
       "(1+ε)-approximate nearest neighbor search      approximate near neighbor search special case ...   \n",
       "Calibration (statistics)                       two main us term calibration statistic denote ...   \n",
       "Soft independent modelling of class analogies  soft independent modelling class analogy simca...   \n",
       "Statistical classification                     machine learning statistic classification prob...   \n",
       "\n",
       "                                                 pageid  title_numerical  \n",
       "title                                                                     \n",
       "(1+ε)-approximate nearest neighbor search      32003319                0  \n",
       "Calibration (statistics)                         740955               32  \n",
       "Soft independent modelling of class analogies    843901              230  \n",
       "Statistical classification                      1579244              233  "
      ]
     },
     "execution_count": 16,
     "metadata": {},
     "output_type": "execute_result"
    }
   ],
   "source": [
    "corpus_df.head(4)"
   ]
  },
  {
   "cell_type": "markdown",
   "metadata": {},
   "source": [
    "### Prepare for Document Term Matrix (DTM)\n",
    "Use TFIDF (Term Frequency x Inverse Document Frequency) to generate document term matrix.\n",
    " - Apply following hyperparatmeters, tests run with different values\n",
    "     - remove 'english' stop words ( this was also done in cleaning proces but on testing resulting size of dtm TFIDF removes addtional stopwords.)\n",
    "     - keep repeating groups of 1 to 2 words  (ngrams)  - tested with and without\n",
    "     - set minimum no. of documents a term must occur in ( min_df ) - tested 1 or 2 "
   ]
  },
  {
   "cell_type": "code",
   "execution_count": 17,
   "metadata": {
    "collapsed": true
   },
   "outputs": [],
   "source": [
    "#test 3\n",
    "tfidf_v = TfidfVectorizer(stop_words = 'english', min_df=1  )"
   ]
  },
  {
   "cell_type": "code",
   "execution_count": 18,
   "metadata": {},
   "outputs": [
    {
     "name": "stdout",
     "output_type": "stream",
     "text": [
      "CPU times: user 156 ms, sys: 7.96 ms, total: 164 ms\n",
      "Wall time: 213 ms\n"
     ]
    }
   ],
   "source": [
    "%%time\n",
    "dtm_sp = tfidf_v.fit_transform(corpus_df.extract)"
   ]
  },
  {
   "cell_type": "code",
   "execution_count": 19,
   "metadata": {},
   "outputs": [
    {
     "data": {
      "text/plain": [
       "<262x9955 sparse matrix of type '<class 'numpy.float64'>'\n",
       "\twith 57306 stored elements in Compressed Sparse Row format>"
      ]
     },
     "execution_count": 19,
     "metadata": {},
     "output_type": "execute_result"
    }
   ],
   "source": [
    "dtm_sp"
   ]
  },
  {
   "cell_type": "code",
   "execution_count": 20,
   "metadata": {
    "collapsed": true
   },
   "outputs": [],
   "source": [
    "dtm_df = pd.DataFrame(dtm_sp.toarray(),\n",
    "                                       index=corpus_df.index,\n",
    "                                       columns=tfidf_v.get_feature_names())"
   ]
  },
  {
   "cell_type": "code",
   "execution_count": 21,
   "metadata": {
    "scrolled": true
   },
   "outputs": [
    {
     "data": {
      "text/html": [
       "<div>\n",
       "<style>\n",
       "    .dataframe thead tr:only-child th {\n",
       "        text-align: right;\n",
       "    }\n",
       "\n",
       "    .dataframe thead th {\n",
       "        text-align: left;\n",
       "    }\n",
       "\n",
       "    .dataframe tbody tr th {\n",
       "        vertical-align: top;\n",
       "    }\n",
       "</style>\n",
       "<table border=\"1\" class=\"dataframe\">\n",
       "  <thead>\n",
       "    <tr style=\"text-align: right;\">\n",
       "      <th>title</th>\n",
       "      <th>(1+ε)-approximate nearest neighbor search</th>\n",
       "      <th>Calibration (statistics)</th>\n",
       "      <th>Soft independent modelling of class analogies</th>\n",
       "      <th>Statistical classification</th>\n",
       "      <th>Variable kernel density estimation</th>\n",
       "      <th>AdaBoost</th>\n",
       "      <th>ALOPEX</th>\n",
       "      <th>Alternating decision tree</th>\n",
       "      <th>Analogical modeling</th>\n",
       "      <th>Averaged one-dependence estimators</th>\n",
       "      <th>...</th>\n",
       "      <th>Neuro Laboratory</th>\n",
       "      <th>Neuroph</th>\n",
       "      <th>NeuroSolutions</th>\n",
       "      <th>OCRopus</th>\n",
       "      <th>Peltarion Synapse</th>\n",
       "      <th>Picas (app)</th>\n",
       "      <th>Prisma (app)</th>\n",
       "      <th>PSIPRED</th>\n",
       "      <th>SNNS</th>\n",
       "      <th>Wolfram Language</th>\n",
       "    </tr>\n",
       "  </thead>\n",
       "  <tbody>\n",
       "    <tr>\n",
       "      <th>zoom</th>\n",
       "      <td>0.0</td>\n",
       "      <td>0.0</td>\n",
       "      <td>0.0</td>\n",
       "      <td>0.0</td>\n",
       "      <td>0.0</td>\n",
       "      <td>0.0</td>\n",
       "      <td>0.0</td>\n",
       "      <td>0.0</td>\n",
       "      <td>0.0</td>\n",
       "      <td>0.0</td>\n",
       "      <td>...</td>\n",
       "      <td>0.0</td>\n",
       "      <td>0.0</td>\n",
       "      <td>0.0</td>\n",
       "      <td>0.0</td>\n",
       "      <td>0.0</td>\n",
       "      <td>0.0</td>\n",
       "      <td>0.0</td>\n",
       "      <td>0.0</td>\n",
       "      <td>0.0</td>\n",
       "      <td>0.0</td>\n",
       "    </tr>\n",
       "    <tr>\n",
       "      <th>zquez</th>\n",
       "      <td>0.0</td>\n",
       "      <td>0.0</td>\n",
       "      <td>0.0</td>\n",
       "      <td>0.0</td>\n",
       "      <td>0.0</td>\n",
       "      <td>0.0</td>\n",
       "      <td>0.0</td>\n",
       "      <td>0.0</td>\n",
       "      <td>0.0</td>\n",
       "      <td>0.0</td>\n",
       "      <td>...</td>\n",
       "      <td>0.0</td>\n",
       "      <td>0.0</td>\n",
       "      <td>0.0</td>\n",
       "      <td>0.0</td>\n",
       "      <td>0.0</td>\n",
       "      <td>0.0</td>\n",
       "      <td>0.0</td>\n",
       "      <td>0.0</td>\n",
       "      <td>0.0</td>\n",
       "      <td>0.0</td>\n",
       "    </tr>\n",
       "    <tr>\n",
       "      <th>zs</th>\n",
       "      <td>0.0</td>\n",
       "      <td>0.0</td>\n",
       "      <td>0.0</td>\n",
       "      <td>0.0</td>\n",
       "      <td>0.0</td>\n",
       "      <td>0.0</td>\n",
       "      <td>0.0</td>\n",
       "      <td>0.0</td>\n",
       "      <td>0.0</td>\n",
       "      <td>0.0</td>\n",
       "      <td>...</td>\n",
       "      <td>0.0</td>\n",
       "      <td>0.0</td>\n",
       "      <td>0.0</td>\n",
       "      <td>0.0</td>\n",
       "      <td>0.0</td>\n",
       "      <td>0.0</td>\n",
       "      <td>0.0</td>\n",
       "      <td>0.0</td>\n",
       "      <td>0.0</td>\n",
       "      <td>0.0</td>\n",
       "    </tr>\n",
       "    <tr>\n",
       "      <th>zsa</th>\n",
       "      <td>0.0</td>\n",
       "      <td>0.0</td>\n",
       "      <td>0.0</td>\n",
       "      <td>0.0</td>\n",
       "      <td>0.0</td>\n",
       "      <td>0.0</td>\n",
       "      <td>0.0</td>\n",
       "      <td>0.0</td>\n",
       "      <td>0.0</td>\n",
       "      <td>0.0</td>\n",
       "      <td>...</td>\n",
       "      <td>0.0</td>\n",
       "      <td>0.0</td>\n",
       "      <td>0.0</td>\n",
       "      <td>0.0</td>\n",
       "      <td>0.0</td>\n",
       "      <td>0.0</td>\n",
       "      <td>0.0</td>\n",
       "      <td>0.0</td>\n",
       "      <td>0.0</td>\n",
       "      <td>0.0</td>\n",
       "    </tr>\n",
       "    <tr>\n",
       "      <th>ztemel</th>\n",
       "      <td>0.0</td>\n",
       "      <td>0.0</td>\n",
       "      <td>0.0</td>\n",
       "      <td>0.0</td>\n",
       "      <td>0.0</td>\n",
       "      <td>0.0</td>\n",
       "      <td>0.0</td>\n",
       "      <td>0.0</td>\n",
       "      <td>0.0</td>\n",
       "      <td>0.0</td>\n",
       "      <td>...</td>\n",
       "      <td>0.0</td>\n",
       "      <td>0.0</td>\n",
       "      <td>0.0</td>\n",
       "      <td>0.0</td>\n",
       "      <td>0.0</td>\n",
       "      <td>0.0</td>\n",
       "      <td>0.0</td>\n",
       "      <td>0.0</td>\n",
       "      <td>0.0</td>\n",
       "      <td>0.0</td>\n",
       "    </tr>\n",
       "    <tr>\n",
       "      <th>zucol</th>\n",
       "      <td>0.0</td>\n",
       "      <td>0.0</td>\n",
       "      <td>0.0</td>\n",
       "      <td>0.0</td>\n",
       "      <td>0.0</td>\n",
       "      <td>0.0</td>\n",
       "      <td>0.0</td>\n",
       "      <td>0.0</td>\n",
       "      <td>0.0</td>\n",
       "      <td>0.0</td>\n",
       "      <td>...</td>\n",
       "      <td>0.0</td>\n",
       "      <td>0.0</td>\n",
       "      <td>0.0</td>\n",
       "      <td>0.0</td>\n",
       "      <td>0.0</td>\n",
       "      <td>0.0</td>\n",
       "      <td>0.0</td>\n",
       "      <td>0.0</td>\n",
       "      <td>0.0</td>\n",
       "      <td>0.0</td>\n",
       "    </tr>\n",
       "    <tr>\n",
       "      <th>zufa</th>\n",
       "      <td>0.0</td>\n",
       "      <td>0.0</td>\n",
       "      <td>0.0</td>\n",
       "      <td>0.0</td>\n",
       "      <td>0.0</td>\n",
       "      <td>0.0</td>\n",
       "      <td>0.0</td>\n",
       "      <td>0.0</td>\n",
       "      <td>0.0</td>\n",
       "      <td>0.0</td>\n",
       "      <td>...</td>\n",
       "      <td>0.0</td>\n",
       "      <td>0.0</td>\n",
       "      <td>0.0</td>\n",
       "      <td>0.0</td>\n",
       "      <td>0.0</td>\n",
       "      <td>0.0</td>\n",
       "      <td>0.0</td>\n",
       "      <td>0.0</td>\n",
       "      <td>0.0</td>\n",
       "      <td>0.0</td>\n",
       "    </tr>\n",
       "    <tr>\n",
       "      <th>zupan</th>\n",
       "      <td>0.0</td>\n",
       "      <td>0.0</td>\n",
       "      <td>0.0</td>\n",
       "      <td>0.0</td>\n",
       "      <td>0.0</td>\n",
       "      <td>0.0</td>\n",
       "      <td>0.0</td>\n",
       "      <td>0.0</td>\n",
       "      <td>0.0</td>\n",
       "      <td>0.0</td>\n",
       "      <td>...</td>\n",
       "      <td>0.0</td>\n",
       "      <td>0.0</td>\n",
       "      <td>0.0</td>\n",
       "      <td>0.0</td>\n",
       "      <td>0.0</td>\n",
       "      <td>0.0</td>\n",
       "      <td>0.0</td>\n",
       "      <td>0.0</td>\n",
       "      <td>0.0</td>\n",
       "      <td>0.0</td>\n",
       "    </tr>\n",
       "    <tr>\n",
       "      <th>zur</th>\n",
       "      <td>0.0</td>\n",
       "      <td>0.0</td>\n",
       "      <td>0.0</td>\n",
       "      <td>0.0</td>\n",
       "      <td>0.0</td>\n",
       "      <td>0.0</td>\n",
       "      <td>0.0</td>\n",
       "      <td>0.0</td>\n",
       "      <td>0.0</td>\n",
       "      <td>0.0</td>\n",
       "      <td>...</td>\n",
       "      <td>0.0</td>\n",
       "      <td>0.0</td>\n",
       "      <td>0.0</td>\n",
       "      <td>0.0</td>\n",
       "      <td>0.0</td>\n",
       "      <td>0.0</td>\n",
       "      <td>0.0</td>\n",
       "      <td>0.0</td>\n",
       "      <td>0.0</td>\n",
       "      <td>0.0</td>\n",
       "    </tr>\n",
       "    <tr>\n",
       "      <th>zwischen</th>\n",
       "      <td>0.0</td>\n",
       "      <td>0.0</td>\n",
       "      <td>0.0</td>\n",
       "      <td>0.0</td>\n",
       "      <td>0.0</td>\n",
       "      <td>0.0</td>\n",
       "      <td>0.0</td>\n",
       "      <td>0.0</td>\n",
       "      <td>0.0</td>\n",
       "      <td>0.0</td>\n",
       "      <td>...</td>\n",
       "      <td>0.0</td>\n",
       "      <td>0.0</td>\n",
       "      <td>0.0</td>\n",
       "      <td>0.0</td>\n",
       "      <td>0.0</td>\n",
       "      <td>0.0</td>\n",
       "      <td>0.0</td>\n",
       "      <td>0.0</td>\n",
       "      <td>0.0</td>\n",
       "      <td>0.0</td>\n",
       "    </tr>\n",
       "  </tbody>\n",
       "</table>\n",
       "<p>10 rows × 262 columns</p>\n",
       "</div>"
      ],
      "text/plain": [
       "title     (1+ε)-approximate nearest neighbor search  Calibration (statistics)  \\\n",
       "zoom                                            0.0                       0.0   \n",
       "zquez                                           0.0                       0.0   \n",
       "zs                                              0.0                       0.0   \n",
       "zsa                                             0.0                       0.0   \n",
       "ztemel                                          0.0                       0.0   \n",
       "zucol                                           0.0                       0.0   \n",
       "zufa                                            0.0                       0.0   \n",
       "zupan                                           0.0                       0.0   \n",
       "zur                                             0.0                       0.0   \n",
       "zwischen                                        0.0                       0.0   \n",
       "\n",
       "title     Soft independent modelling of class analogies  \\\n",
       "zoom                                                0.0   \n",
       "zquez                                               0.0   \n",
       "zs                                                  0.0   \n",
       "zsa                                                 0.0   \n",
       "ztemel                                              0.0   \n",
       "zucol                                               0.0   \n",
       "zufa                                                0.0   \n",
       "zupan                                               0.0   \n",
       "zur                                                 0.0   \n",
       "zwischen                                            0.0   \n",
       "\n",
       "title     Statistical classification  Variable kernel density estimation  \\\n",
       "zoom                             0.0                                 0.0   \n",
       "zquez                            0.0                                 0.0   \n",
       "zs                               0.0                                 0.0   \n",
       "zsa                              0.0                                 0.0   \n",
       "ztemel                           0.0                                 0.0   \n",
       "zucol                            0.0                                 0.0   \n",
       "zufa                             0.0                                 0.0   \n",
       "zupan                            0.0                                 0.0   \n",
       "zur                              0.0                                 0.0   \n",
       "zwischen                         0.0                                 0.0   \n",
       "\n",
       "title     AdaBoost  ALOPEX  Alternating decision tree  Analogical modeling  \\\n",
       "zoom           0.0     0.0                        0.0                  0.0   \n",
       "zquez          0.0     0.0                        0.0                  0.0   \n",
       "zs             0.0     0.0                        0.0                  0.0   \n",
       "zsa            0.0     0.0                        0.0                  0.0   \n",
       "ztemel         0.0     0.0                        0.0                  0.0   \n",
       "zucol          0.0     0.0                        0.0                  0.0   \n",
       "zufa           0.0     0.0                        0.0                  0.0   \n",
       "zupan          0.0     0.0                        0.0                  0.0   \n",
       "zur            0.0     0.0                        0.0                  0.0   \n",
       "zwischen       0.0     0.0                        0.0                  0.0   \n",
       "\n",
       "title     Averaged one-dependence estimators        ...         \\\n",
       "zoom                                     0.0        ...          \n",
       "zquez                                    0.0        ...          \n",
       "zs                                       0.0        ...          \n",
       "zsa                                      0.0        ...          \n",
       "ztemel                                   0.0        ...          \n",
       "zucol                                    0.0        ...          \n",
       "zufa                                     0.0        ...          \n",
       "zupan                                    0.0        ...          \n",
       "zur                                      0.0        ...          \n",
       "zwischen                                 0.0        ...          \n",
       "\n",
       "title     Neuro Laboratory  Neuroph  NeuroSolutions  OCRopus  \\\n",
       "zoom                   0.0      0.0             0.0      0.0   \n",
       "zquez                  0.0      0.0             0.0      0.0   \n",
       "zs                     0.0      0.0             0.0      0.0   \n",
       "zsa                    0.0      0.0             0.0      0.0   \n",
       "ztemel                 0.0      0.0             0.0      0.0   \n",
       "zucol                  0.0      0.0             0.0      0.0   \n",
       "zufa                   0.0      0.0             0.0      0.0   \n",
       "zupan                  0.0      0.0             0.0      0.0   \n",
       "zur                    0.0      0.0             0.0      0.0   \n",
       "zwischen               0.0      0.0             0.0      0.0   \n",
       "\n",
       "title     Peltarion Synapse  Picas (app)  Prisma (app)  PSIPRED  SNNS  \\\n",
       "zoom                    0.0          0.0           0.0      0.0   0.0   \n",
       "zquez                   0.0          0.0           0.0      0.0   0.0   \n",
       "zs                      0.0          0.0           0.0      0.0   0.0   \n",
       "zsa                     0.0          0.0           0.0      0.0   0.0   \n",
       "ztemel                  0.0          0.0           0.0      0.0   0.0   \n",
       "zucol                   0.0          0.0           0.0      0.0   0.0   \n",
       "zufa                    0.0          0.0           0.0      0.0   0.0   \n",
       "zupan                   0.0          0.0           0.0      0.0   0.0   \n",
       "zur                     0.0          0.0           0.0      0.0   0.0   \n",
       "zwischen                0.0          0.0           0.0      0.0   0.0   \n",
       "\n",
       "title     Wolfram Language  \n",
       "zoom                   0.0  \n",
       "zquez                  0.0  \n",
       "zs                     0.0  \n",
       "zsa                    0.0  \n",
       "ztemel                 0.0  \n",
       "zucol                  0.0  \n",
       "zufa                   0.0  \n",
       "zupan                  0.0  \n",
       "zur                    0.0  \n",
       "zwischen               0.0  \n",
       "\n",
       "[10 rows x 262 columns]"
      ]
     },
     "execution_count": 21,
     "metadata": {},
     "output_type": "execute_result"
    }
   ],
   "source": [
    "dtm_df.T.tail(10)"
   ]
  },
  {
   "cell_type": "code",
   "execution_count": 22,
   "metadata": {},
   "outputs": [
    {
     "data": {
      "text/plain": [
       "(262, 9955)"
      ]
     },
     "execution_count": 22,
     "metadata": {},
     "output_type": "execute_result"
    }
   ],
   "source": [
    "dtm_df.shape"
   ]
  },
  {
   "cell_type": "markdown",
   "metadata": {},
   "source": [
    "### Compute SVD matrix"
   ]
  },
  {
   "cell_type": "code",
   "execution_count": 23,
   "metadata": {
    "collapsed": true
   },
   "outputs": [],
   "source": [
    "n_components = 200\n",
    "svd_v = TruncatedSVD(n_components)\n",
    "component_names = [\"component_\"+str(i+1) for i in range(n_components)]"
   ]
  },
  {
   "cell_type": "code",
   "execution_count": 24,
   "metadata": {},
   "outputs": [
    {
     "name": "stdout",
     "output_type": "stream",
     "text": [
      "CPU times: user 3.65 s, sys: 225 ms, total: 3.88 s\n",
      "Wall time: 1.39 s\n"
     ]
    }
   ],
   "source": [
    "%%time\n",
    "svdm = svd_v.fit_transform(dtm_df)"
   ]
  },
  {
   "cell_type": "code",
   "execution_count": 25,
   "metadata": {},
   "outputs": [
    {
     "data": {
      "text/plain": [
       "0.90104749714479093"
      ]
     },
     "execution_count": 25,
     "metadata": {},
     "output_type": "execute_result"
    }
   ],
   "source": [
    "sum(svd_v.explained_variance_ratio_)"
   ]
  },
  {
   "cell_type": "code",
   "execution_count": 26,
   "metadata": {},
   "outputs": [
    {
     "data": {
      "text/plain": [
       "<Container object of 200 artists>"
      ]
     },
     "execution_count": 26,
     "metadata": {},
     "output_type": "execute_result"
    },
    {
     "data": {
      "image/png": "[encoded data removed]",
      "text/plain": [
       "<matplotlib.figure.Figure at 0x7f45801d1748>"
      ]
     },
     "metadata": {},
     "output_type": "display_data"
    }
   ],
   "source": [
    "plt.bar(range(n_components), svd_v.explained_variance_ratio_)"
   ]
  },
  {
   "cell_type": "code",
   "execution_count": 27,
   "metadata": {
    "collapsed": true
   },
   "outputs": [],
   "source": [
    "lsa = pd.DataFrame(svdm,index=dtm_df.index,columns=component_names)\n",
    "lsa['extract'] = corpus_df.extract\n",
    "lsa['pageid'] = corpus_df.pageid"
   ]
  },
  {
   "cell_type": "code",
   "execution_count": 28,
   "metadata": {},
   "outputs": [
    {
     "data": {
      "text/html": [
       "<div>\n",
       "<style>\n",
       "    .dataframe thead tr:only-child th {\n",
       "        text-align: right;\n",
       "    }\n",
       "\n",
       "    .dataframe thead th {\n",
       "        text-align: left;\n",
       "    }\n",
       "\n",
       "    .dataframe tbody tr th {\n",
       "        vertical-align: top;\n",
       "    }\n",
       "</style>\n",
       "<table border=\"1\" class=\"dataframe\">\n",
       "  <thead>\n",
       "    <tr style=\"text-align: right;\">\n",
       "      <th></th>\n",
       "      <th>component_1</th>\n",
       "      <th>component_2</th>\n",
       "      <th>component_3</th>\n",
       "      <th>component_4</th>\n",
       "      <th>component_5</th>\n",
       "      <th>component_6</th>\n",
       "      <th>component_7</th>\n",
       "      <th>component_8</th>\n",
       "      <th>component_9</th>\n",
       "      <th>component_10</th>\n",
       "      <th>...</th>\n",
       "      <th>component_193</th>\n",
       "      <th>component_194</th>\n",
       "      <th>component_195</th>\n",
       "      <th>component_196</th>\n",
       "      <th>component_197</th>\n",
       "      <th>component_198</th>\n",
       "      <th>component_199</th>\n",
       "      <th>component_200</th>\n",
       "      <th>extract</th>\n",
       "      <th>pageid</th>\n",
       "    </tr>\n",
       "    <tr>\n",
       "      <th>title</th>\n",
       "      <th></th>\n",
       "      <th></th>\n",
       "      <th></th>\n",
       "      <th></th>\n",
       "      <th></th>\n",
       "      <th></th>\n",
       "      <th></th>\n",
       "      <th></th>\n",
       "      <th></th>\n",
       "      <th></th>\n",
       "      <th></th>\n",
       "      <th></th>\n",
       "      <th></th>\n",
       "      <th></th>\n",
       "      <th></th>\n",
       "      <th></th>\n",
       "      <th></th>\n",
       "      <th></th>\n",
       "      <th></th>\n",
       "      <th></th>\n",
       "      <th></th>\n",
       "    </tr>\n",
       "  </thead>\n",
       "  <tbody>\n",
       "    <tr>\n",
       "      <th>(1+ε)-approximate nearest neighbor search</th>\n",
       "      <td>0.104913</td>\n",
       "      <td>0.139973</td>\n",
       "      <td>-0.055479</td>\n",
       "      <td>-0.054447</td>\n",
       "      <td>-0.173937</td>\n",
       "      <td>-0.115522</td>\n",
       "      <td>-0.244504</td>\n",
       "      <td>0.417431</td>\n",
       "      <td>-0.176311</td>\n",
       "      <td>0.354236</td>\n",
       "      <td>...</td>\n",
       "      <td>0.010957</td>\n",
       "      <td>-0.088159</td>\n",
       "      <td>-0.045616</td>\n",
       "      <td>0.005960</td>\n",
       "      <td>-0.040667</td>\n",
       "      <td>0.037957</td>\n",
       "      <td>0.003156</td>\n",
       "      <td>-0.090397</td>\n",
       "      <td>approximate near neighbor search special case ...</td>\n",
       "      <td>32003319</td>\n",
       "    </tr>\n",
       "    <tr>\n",
       "      <th>Calibration (statistics)</th>\n",
       "      <td>0.174065</td>\n",
       "      <td>0.159423</td>\n",
       "      <td>-0.036965</td>\n",
       "      <td>-0.088673</td>\n",
       "      <td>-0.028845</td>\n",
       "      <td>-0.123071</td>\n",
       "      <td>-0.057541</td>\n",
       "      <td>-0.177936</td>\n",
       "      <td>0.012291</td>\n",
       "      <td>-0.027207</td>\n",
       "      <td>...</td>\n",
       "      <td>0.047493</td>\n",
       "      <td>0.004612</td>\n",
       "      <td>-0.046441</td>\n",
       "      <td>0.038930</td>\n",
       "      <td>0.025171</td>\n",
       "      <td>0.022824</td>\n",
       "      <td>0.033867</td>\n",
       "      <td>0.013303</td>\n",
       "      <td>two main us term calibration statistic denote ...</td>\n",
       "      <td>740955</td>\n",
       "    </tr>\n",
       "    <tr>\n",
       "      <th>Soft independent modelling of class analogies</th>\n",
       "      <td>0.218589</td>\n",
       "      <td>0.192433</td>\n",
       "      <td>-0.055834</td>\n",
       "      <td>-0.134573</td>\n",
       "      <td>-0.105211</td>\n",
       "      <td>-0.081365</td>\n",
       "      <td>-0.126434</td>\n",
       "      <td>-0.097832</td>\n",
       "      <td>0.013654</td>\n",
       "      <td>-0.051383</td>\n",
       "      <td>...</td>\n",
       "      <td>0.007262</td>\n",
       "      <td>-0.023896</td>\n",
       "      <td>0.068188</td>\n",
       "      <td>-0.012114</td>\n",
       "      <td>0.038528</td>\n",
       "      <td>-0.008539</td>\n",
       "      <td>0.044502</td>\n",
       "      <td>0.031719</td>\n",
       "      <td>soft independent modelling class analogy simca...</td>\n",
       "      <td>843901</td>\n",
       "    </tr>\n",
       "  </tbody>\n",
       "</table>\n",
       "<p>3 rows × 202 columns</p>\n",
       "</div>"
      ],
      "text/plain": [
       "                                               component_1  component_2  \\\n",
       "title                                                                     \n",
       "(1+ε)-approximate nearest neighbor search         0.104913     0.139973   \n",
       "Calibration (statistics)                          0.174065     0.159423   \n",
       "Soft independent modelling of class analogies     0.218589     0.192433   \n",
       "\n",
       "                                               component_3  component_4  \\\n",
       "title                                                                     \n",
       "(1+ε)-approximate nearest neighbor search        -0.055479    -0.054447   \n",
       "Calibration (statistics)                         -0.036965    -0.088673   \n",
       "Soft independent modelling of class analogies    -0.055834    -0.134573   \n",
       "\n",
       "                                               component_5  component_6  \\\n",
       "title                                                                     \n",
       "(1+ε)-approximate nearest neighbor search        -0.173937    -0.115522   \n",
       "Calibration (statistics)                         -0.028845    -0.123071   \n",
       "Soft independent modelling of class analogies    -0.105211    -0.081365   \n",
       "\n",
       "                                               component_7  component_8  \\\n",
       "title                                                                     \n",
       "(1+ε)-approximate nearest neighbor search        -0.244504     0.417431   \n",
       "Calibration (statistics)                         -0.057541    -0.177936   \n",
       "Soft independent modelling of class analogies    -0.126434    -0.097832   \n",
       "\n",
       "                                               component_9  component_10  \\\n",
       "title                                                                      \n",
       "(1+ε)-approximate nearest neighbor search        -0.176311      0.354236   \n",
       "Calibration (statistics)                          0.012291     -0.027207   \n",
       "Soft independent modelling of class analogies     0.013654     -0.051383   \n",
       "\n",
       "                                                 ...     component_193  \\\n",
       "title                                            ...                     \n",
       "(1+ε)-approximate nearest neighbor search        ...          0.010957   \n",
       "Calibration (statistics)                         ...          0.047493   \n",
       "Soft independent modelling of class analogies    ...          0.007262   \n",
       "\n",
       "                                               component_194  component_195  \\\n",
       "title                                                                         \n",
       "(1+ε)-approximate nearest neighbor search          -0.088159      -0.045616   \n",
       "Calibration (statistics)                            0.004612      -0.046441   \n",
       "Soft independent modelling of class analogies      -0.023896       0.068188   \n",
       "\n",
       "                                               component_196  component_197  \\\n",
       "title                                                                         \n",
       "(1+ε)-approximate nearest neighbor search           0.005960      -0.040667   \n",
       "Calibration (statistics)                            0.038930       0.025171   \n",
       "Soft independent modelling of class analogies      -0.012114       0.038528   \n",
       "\n",
       "                                               component_198  component_199  \\\n",
       "title                                                                         \n",
       "(1+ε)-approximate nearest neighbor search           0.037957       0.003156   \n",
       "Calibration (statistics)                            0.022824       0.033867   \n",
       "Soft independent modelling of class analogies      -0.008539       0.044502   \n",
       "\n",
       "                                               component_200  \\\n",
       "title                                                          \n",
       "(1+ε)-approximate nearest neighbor search          -0.090397   \n",
       "Calibration (statistics)                            0.013303   \n",
       "Soft independent modelling of class analogies       0.031719   \n",
       "\n",
       "                                                                                         extract  \\\n",
       "title                                                                                              \n",
       "(1+ε)-approximate nearest neighbor search      approximate near neighbor search special case ...   \n",
       "Calibration (statistics)                       two main us term calibration statistic denote ...   \n",
       "Soft independent modelling of class analogies  soft independent modelling class analogy simca...   \n",
       "\n",
       "                                                 pageid  \n",
       "title                                                    \n",
       "(1+ε)-approximate nearest neighbor search      32003319  \n",
       "Calibration (statistics)                         740955  \n",
       "Soft independent modelling of class analogies    843901  \n",
       "\n",
       "[3 rows x 202 columns]"
      ]
     },
     "execution_count": 28,
     "metadata": {},
     "output_type": "execute_result"
    }
   ],
   "source": [
    "lsa.head(3)"
   ]
  },
  {
   "cell_type": "code",
   "execution_count": 30,
   "metadata": {},
   "outputs": [
    {
     "name": "stdout",
     "output_type": "stream",
     "text": [
      "<class 'pandas.core.frame.DataFrame'>\n",
      "Index: 262 entries, (1+ε)-approximate nearest neighbor search to Wolfram Language\n",
      "Columns: 202 entries, component_1 to pageid\n",
      "dtypes: float64(200), int64(1), object(1)\n",
      "memory usage: 425.5+ KB\n"
     ]
    }
   ],
   "source": [
    "lsa.info()"
   ]
  },
  {
   "cell_type": "code",
   "execution_count": 31,
   "metadata": {
    "collapsed": true
   },
   "outputs": [],
   "source": [
    "comp_features = pd.DataFrame(svd_v.components_,index=component_names,columns=tfidf_v.get_feature_names()).T"
   ]
  },
  {
   "cell_type": "markdown",
   "metadata": {},
   "source": [
    "### Look at feature breakdown of components\n",
    "Lots of numbers, and symbols - need to remove"
   ]
  },
  {
   "cell_type": "code",
   "execution_count": 32,
   "metadata": {
    "collapsed": true
   },
   "outputs": [],
   "source": [
    "# Feature breakdown of componentes\n",
    "top_20={}\n",
    "for i in range(1,20):\n",
    "    comp_features['abs_component_{}'.format(i)] = np.abs(comp_features['component_{}'.format(i)])"
   ]
  },
  {
   "cell_type": "code",
   "execution_count": 33,
   "metadata": {},
   "outputs": [
    {
     "data": {
      "text/plain": [
       "network      0.326375\n",
       "neural       0.219675\n",
       "function     0.190006\n",
       "use          0.170559\n",
       "model        0.162842\n",
       "neuron       0.161112\n",
       "layer        0.156841\n",
       "weight       0.139476\n",
       "input        0.136284\n",
       "algorithm    0.129710\n",
       "Name: abs_component_1, dtype: float64"
      ]
     },
     "execution_count": 33,
     "metadata": {},
     "output_type": "execute_result"
    }
   ],
   "source": [
    "comp_features['abs_component_1'].sort_values(ascending=False).head(10)"
   ]
  },
  {
   "cell_type": "markdown",
   "metadata": {},
   "source": [
    "## Search process\n",
    "\n",
    "1. input search term and vectorize using fitted TFIDF\n",
    "2. Append search term to the DTM -> augmented DTM\n",
    "3. SVD fit & transform on augemented DTM - > updated components\n",
    "4. identify index for search term vector in svd matrix\n",
    "5. Use cosine similarity to find most similar vectors in svd matrix"
   ]
  },
  {
   "cell_type": "code",
   "execution_count": 34,
   "metadata": {
    "collapsed": true
   },
   "outputs": [],
   "source": [
    "search_term='logistic regression'"
   ]
  },
  {
   "cell_type": "code",
   "execution_count": 35,
   "metadata": {
    "collapsed": true
   },
   "outputs": [],
   "source": [
    "s_term=[search_term]\n",
    "\n",
    "#vectorize search term with TFIDF vectorizer (previously fitted)\n",
    "s_term_encoded=tfidf_v.transform(s_term)\n",
    "s_term_encoded_df = pd.DataFrame(s_term_encoded.toarray(), \n",
    "                                   index=['search_term'], \n",
    "                                   columns=tfidf_v.get_feature_names())"
   ]
  },
  {
   "cell_type": "code",
   "execution_count": 36,
   "metadata": {},
   "outputs": [
    {
     "data": {
      "text/html": [
       "<div>\n",
       "<style>\n",
       "    .dataframe thead tr:only-child th {\n",
       "        text-align: right;\n",
       "    }\n",
       "\n",
       "    .dataframe thead th {\n",
       "        text-align: left;\n",
       "    }\n",
       "\n",
       "    .dataframe tbody tr th {\n",
       "        vertical-align: top;\n",
       "    }\n",
       "</style>\n",
       "<table border=\"1\" class=\"dataframe\">\n",
       "  <thead>\n",
       "    <tr style=\"text-align: right;\">\n",
       "      <th></th>\n",
       "      <th>aaai</th>\n",
       "      <th>aalto</th>\n",
       "      <th>aamodt</th>\n",
       "      <th>aargauer</th>\n",
       "      <th>aaron</th>\n",
       "      <th>ab</th>\n",
       "      <th>abandon</th>\n",
       "      <th>abb</th>\n",
       "      <th>abbreviate</th>\n",
       "      <th>abbreviation</th>\n",
       "      <th>...</th>\n",
       "      <th>zoom</th>\n",
       "      <th>zquez</th>\n",
       "      <th>zs</th>\n",
       "      <th>zsa</th>\n",
       "      <th>ztemel</th>\n",
       "      <th>zucol</th>\n",
       "      <th>zufa</th>\n",
       "      <th>zupan</th>\n",
       "      <th>zur</th>\n",
       "      <th>zwischen</th>\n",
       "    </tr>\n",
       "  </thead>\n",
       "  <tbody>\n",
       "    <tr>\n",
       "      <th>search_term</th>\n",
       "      <td>0.0</td>\n",
       "      <td>0.0</td>\n",
       "      <td>0.0</td>\n",
       "      <td>0.0</td>\n",
       "      <td>0.0</td>\n",
       "      <td>0.0</td>\n",
       "      <td>0.0</td>\n",
       "      <td>0.0</td>\n",
       "      <td>0.0</td>\n",
       "      <td>0.0</td>\n",
       "      <td>...</td>\n",
       "      <td>0.0</td>\n",
       "      <td>0.0</td>\n",
       "      <td>0.0</td>\n",
       "      <td>0.0</td>\n",
       "      <td>0.0</td>\n",
       "      <td>0.0</td>\n",
       "      <td>0.0</td>\n",
       "      <td>0.0</td>\n",
       "      <td>0.0</td>\n",
       "      <td>0.0</td>\n",
       "    </tr>\n",
       "  </tbody>\n",
       "</table>\n",
       "<p>1 rows × 9955 columns</p>\n",
       "</div>"
      ],
      "text/plain": [
       "             aaai  aalto  aamodt  aargauer  aaron   ab  abandon  abb  \\\n",
       "search_term   0.0    0.0     0.0       0.0    0.0  0.0      0.0  0.0   \n",
       "\n",
       "             abbreviate  abbreviation    ...     zoom  zquez   zs  zsa  \\\n",
       "search_term         0.0           0.0    ...      0.0    0.0  0.0  0.0   \n",
       "\n",
       "             ztemel  zucol  zufa  zupan  zur  zwischen  \n",
       "search_term     0.0    0.0   0.0    0.0  0.0       0.0  \n",
       "\n",
       "[1 rows x 9955 columns]"
      ]
     },
     "execution_count": 36,
     "metadata": {},
     "output_type": "execute_result"
    }
   ],
   "source": [
    "s_term_encoded_df"
   ]
  },
  {
   "cell_type": "code",
   "execution_count": 37,
   "metadata": {
    "collapsed": true
   },
   "outputs": [],
   "source": [
    "dtma_df=()"
   ]
  },
  {
   "cell_type": "code",
   "execution_count": 38,
   "metadata": {},
   "outputs": [
    {
     "name": "stdout",
     "output_type": "stream",
     "text": [
      "CPU times: user 5.23 ms, sys: 81 µs, total: 5.32 ms\n",
      "Wall time: 4.35 ms\n"
     ]
    }
   ],
   "source": [
    "%%time\n",
    "#add to existing document term matrix\n",
    "dtma_df=dtm_df.append(s_term_encoded_df)"
   ]
  },
  {
   "cell_type": "code",
   "execution_count": 39,
   "metadata": {},
   "outputs": [
    {
     "data": {
      "text/plain": [
       "(263, 9955)"
      ]
     },
     "execution_count": 39,
     "metadata": {},
     "output_type": "execute_result"
    }
   ],
   "source": [
    "dtma_df.shape"
   ]
  },
  {
   "cell_type": "code",
   "execution_count": 40,
   "metadata": {},
   "outputs": [
    {
     "name": "stdout",
     "output_type": "stream",
     "text": [
      "CPU times: user 2.81 s, sys: 111 ms, total: 2.92 s\n",
      "Wall time: 762 ms\n"
     ]
    }
   ],
   "source": [
    "%%time\n",
    "#re fit SVD to augmented document term matrix\n",
    "component_names = [\"component_\"+str(i+1) for i in range(svd_v.n_components)]\n",
    "svdma=svd_v.fit_transform(dtma_df)\n",
    "svdma_df=pd.DataFrame(svdma,index=dtma_df.index,columns=component_names)"
   ]
  },
  {
   "cell_type": "code",
   "execution_count": 41,
   "metadata": {
    "collapsed": true
   },
   "outputs": [],
   "source": [
    "#find index of search term in refit SVD matrix\n",
    "s_term_svd_vector=svdma_df.loc['search_term',:].values.reshape(1,-1)"
   ]
  },
  {
   "cell_type": "code",
   "execution_count": 42,
   "metadata": {
    "collapsed": true
   },
   "outputs": [],
   "source": [
    "#calculate cosine similarty of search term against other SVD vectors\n",
    "svdma_df['cosine_sim'] = cosine_similarity(svdma_df, s_term_svd_vector)"
   ]
  },
  {
   "cell_type": "code",
   "execution_count": 43,
   "metadata": {},
   "outputs": [
    {
     "name": "stdout",
     "output_type": "stream",
     "text": [
      "top 10 wiki pages that are related to search term = ['logistic regression']\n"
     ]
    },
    {
     "data": {
      "text/html": [
       "<div>\n",
       "<style>\n",
       "    .dataframe thead tr:only-child th {\n",
       "        text-align: right;\n",
       "    }\n",
       "\n",
       "    .dataframe thead th {\n",
       "        text-align: left;\n",
       "    }\n",
       "\n",
       "    .dataframe tbody tr th {\n",
       "        vertical-align: top;\n",
       "    }\n",
       "</style>\n",
       "<table border=\"1\" class=\"dataframe\">\n",
       "  <thead>\n",
       "    <tr style=\"text-align: right;\">\n",
       "      <th></th>\n",
       "      <th>cosine_sim</th>\n",
       "    </tr>\n",
       "  </thead>\n",
       "  <tbody>\n",
       "    <tr>\n",
       "      <th>search_term</th>\n",
       "      <td>1.000000</td>\n",
       "    </tr>\n",
       "    <tr>\n",
       "      <th>Logistic model tree</th>\n",
       "      <td>0.423865</td>\n",
       "    </tr>\n",
       "    <tr>\n",
       "      <th>Multinomial logistic regression</th>\n",
       "      <td>0.399734</td>\n",
       "    </tr>\n",
       "    <tr>\n",
       "      <th>Sigmoid function</th>\n",
       "      <td>0.373496</td>\n",
       "    </tr>\n",
       "    <tr>\n",
       "      <th>LogitBoost</th>\n",
       "      <td>0.260441</td>\n",
       "    </tr>\n",
       "    <tr>\n",
       "      <th>Softmax function</th>\n",
       "      <td>0.166457</td>\n",
       "    </tr>\n",
       "    <tr>\n",
       "      <th>Statistical classification</th>\n",
       "      <td>0.145457</td>\n",
       "    </tr>\n",
       "    <tr>\n",
       "      <th>Optimal discriminant analysis</th>\n",
       "      <td>0.133672</td>\n",
       "    </tr>\n",
       "    <tr>\n",
       "      <th>Calibration (statistics)</th>\n",
       "      <td>0.124698</td>\n",
       "    </tr>\n",
       "    <tr>\n",
       "      <th>Rectifier (neural networks)</th>\n",
       "      <td>0.115594</td>\n",
       "    </tr>\n",
       "  </tbody>\n",
       "</table>\n",
       "</div>"
      ],
      "text/plain": [
       "                                 cosine_sim\n",
       "search_term                        1.000000\n",
       "Logistic model tree                0.423865\n",
       "Multinomial logistic regression    0.399734\n",
       "Sigmoid function                   0.373496\n",
       "LogitBoost                         0.260441\n",
       "Softmax function                   0.166457\n",
       "Statistical classification         0.145457\n",
       "Optimal discriminant analysis      0.133672\n",
       "Calibration (statistics)           0.124698\n",
       "Rectifier (neural networks)        0.115594"
      ]
     },
     "execution_count": 43,
     "metadata": {},
     "output_type": "execute_result"
    }
   ],
   "source": [
    "print('top 10 wiki pages that are related to search term = {}'.format(s_term))\n",
    "svdma_df[['cosine_sim']].sort_values('cosine_sim', ascending=False).head(10)\n",
    "    "
   ]
  }
 ],
 "metadata": {
  "kernelspec": {
   "display_name": "Python 3",
   "language": "python",
   "name": "python3"
  },
  "language_info": {
   "codemirror_mode": {
    "name": "ipython",
    "version": 3
   },
   "file_extension": ".py",
   "mimetype": "text/x-python",
   "name": "python",
   "nbconvert_exporter": "python",
   "pygments_lexer": "ipython3",
   "version": "3.6.3"
  }
 },
 "nbformat": 4,
 "nbformat_minor": 2
}
