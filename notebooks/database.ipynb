{
 "cells": [
  {
   "cell_type": "code",
   "execution_count": 1,
   "metadata": {},
   "outputs": [
    {
     "name": "stdout",
     "output_type": "stream",
     "text": [
      "/home/amit/Practice/Semantic-search\n"
     ]
    }
   ],
   "source": [
    "cd .."
   ]
  },
  {
   "cell_type": "code",
   "execution_count": 2,
   "metadata": {},
   "outputs": [],
   "source": [
    "#Import standard modules\n",
    "%run lib/__init__.py\n",
    "%matplotlib inline"
   ]
  },
  {
   "cell_type": "markdown",
   "metadata": {},
   "source": [
    "\n",
    "## Set up Mongo Database on AWS instance\n",
    "\n",
    "- AWS E2 t2.micro instance running on public ip=35.174.105.75\n",
    "- Ensure port 27016 open for connecting to MongoDB\n",
    "- Docker Mongo image 'loaded \n",
    "- Docker container created, name = 'this_mongo'\n",
    "- Ensure Docker container running"
   ]
  },
  {
   "cell_type": "code",
   "execution_count": 3,
   "metadata": {},
   "outputs": [],
   "source": [
    "import pymongo"
   ]
  },
  {
   "cell_type": "markdown",
   "metadata": {},
   "source": [
    "Set up link to Mongo client on AWS"
   ]
  },
  {
   "cell_type": "code",
   "execution_count": 4,
   "metadata": {},
   "outputs": [],
   "source": [
    "IP='35.174.105.75'"
   ]
  },
  {
   "cell_type": "code",
   "execution_count": 5,
   "metadata": {},
   "outputs": [],
   "source": [
    "client = pymongo.MongoClient(IP, 27016)"
   ]
  },
  {
   "cell_type": "markdown",
   "metadata": {},
   "source": [
    "Check existing databases"
   ]
  },
  {
   "cell_type": "code",
   "execution_count": 6,
   "metadata": {},
   "outputs": [
    {
     "data": {
      "text/plain": [
       "['admin', 'local', 'myWiki']"
      ]
     },
     "execution_count": 6,
     "metadata": {},
     "output_type": "execute_result"
    }
   ],
   "source": [
    "client.database_names()"
   ]
  },
  {
   "cell_type": "markdown",
   "metadata": {},
   "source": [
    "Create a reference to a new database for wikipedia information ( lets refer to database refs as _dbr)"
   ]
  },
  {
   "cell_type": "code",
   "execution_count": 7,
   "metadata": {},
   "outputs": [],
   "source": [
    "myWiki_dbr=client.myWiki"
   ]
  },
  {
   "cell_type": "markdown",
   "metadata": {},
   "source": [
    "Create a reference to a test collection  ( lets refer to collection refs with _cllr)"
   ]
  },
  {
   "cell_type": "code",
   "execution_count": 8,
   "metadata": {},
   "outputs": [],
   "source": [
    "test_cllr=myWiki_dbr.test_collection"
   ]
  },
  {
   "cell_type": "markdown",
   "metadata": {},
   "source": [
    "Add a test record to create db and collection"
   ]
  },
  {
   "cell_type": "code",
   "execution_count": 9,
   "metadata": {},
   "outputs": [
    {
     "data": {
      "text/plain": [
       "<pymongo.results.InsertOneResult at 0x7f6070e52ee8>"
      ]
     },
     "execution_count": 9,
     "metadata": {},
     "output_type": "execute_result"
    }
   ],
   "source": [
    "test_record={ 'message' : 'Test db creation'}\n",
    "test_cllr.insert_one(test_record)"
   ]
  },
  {
   "cell_type": "markdown",
   "metadata": {},
   "source": [
    "# Maintenance  / management of DB content "
   ]
  },
  {
   "cell_type": "markdown",
   "metadata": {},
   "source": [
    "## Check dbs and collections set up"
   ]
  },
  {
   "cell_type": "code",
   "execution_count": 10,
   "metadata": {},
   "outputs": [
    {
     "data": {
      "text/plain": [
       "['admin', 'local', 'myWiki']"
      ]
     },
     "execution_count": 10,
     "metadata": {},
     "output_type": "execute_result"
    }
   ],
   "source": [
    "client.database_names() "
   ]
  },
  {
   "cell_type": "code",
   "execution_count": 34,
   "metadata": {},
   "outputs": [
    {
     "data": {
      "text/plain": [
       "['pagetestload_collection',\n",
       " 'test_collection',\n",
       " 'loads_collection',\n",
       " 'page_collection',\n",
       " 'pagetest_collection',\n",
       " 'category_collection',\n",
       " 'pageload_collection']"
      ]
     },
     "execution_count": 34,
     "metadata": {},
     "output_type": "execute_result"
    }
   ],
   "source": [
    "myWiki_dbr.collection_names()"
   ]
  },
  {
   "cell_type": "markdown",
   "metadata": {},
   "source": [
    "## Check documents inserted\n",
    "- Assign a query to a cursor\n",
    "- run query by calling cursor\n",
    "- Use cursor to iterate through query results"
   ]
  },
  {
   "cell_type": "code",
   "execution_count": 13,
   "metadata": {},
   "outputs": [
    {
     "data": {
      "text/plain": [
       "[{'_id': ObjectId('5a108b2b05f1b300763b37b7'), 'message': 'Test db creation'},\n",
       " {'_id': ObjectId('5a108f0005f1b300763b37b8'), 'message': 'Test db creation'},\n",
       " {'_id': ObjectId('5a15b7cb05f1b301cca4630e'), 'message': 'Test db creation'},\n",
       " {'_id': ObjectId('5a22139dcd7a8902450cc3e0'), 'message': 'Test db creation'},\n",
       " {'_id': ObjectId('5a22e630cd7a8903341027f8'), 'message': 'Test db creation'},\n",
       " {'_id': ObjectId('5a68febfcd7a890148cbef10'), 'message': 'Test db creation'},\n",
       " {'_id': ObjectId('5a69000dcd7a890148cbef12'), 'message': 'Test db creation'},\n",
       " {'_id': ObjectId('5a690f16cd7a8901dc5244ac'), 'message': 'Test db creation'},\n",
       " {'_id': ObjectId('5a6a0d61cd7a89005382c2d7'), 'message': 'Test db creation'},\n",
       " {'_id': ObjectId('5a6b6b7ecd7a8902168ae1d7'), 'message': 'Test db creation'}]"
      ]
     },
     "execution_count": 13,
     "metadata": {},
     "output_type": "execute_result"
    }
   ],
   "source": [
    "cursor=test_cllr.find()\n",
    "cursor\n",
    "docs=list(cursor)\n",
    "docs"
   ]
  },
  {
   "cell_type": "markdown",
   "metadata": {},
   "source": [
    "## Check content of collections"
   ]
  },
  {
   "cell_type": "code",
   "execution_count": 26,
   "metadata": {},
   "outputs": [
    {
     "data": {
      "text/plain": [
       "10"
      ]
     },
     "execution_count": 26,
     "metadata": {},
     "output_type": "execute_result"
    }
   ],
   "source": [
    "cursor=test_cllr.find().count()\n",
    "cursor"
   ]
  },
  {
   "cell_type": "code",
   "execution_count": 27,
   "metadata": {},
   "outputs": [
    {
     "data": {
      "text/html": [
       "<div>\n",
       "<table border=\"1\" class=\"dataframe\">\n",
       "  <thead>\n",
       "    <tr style=\"text-align: right;\">\n",
       "      <th></th>\n",
       "      <th>loaded</th>\n",
       "      <th>master_cat</th>\n",
       "      <th>sub_cats_added</th>\n",
       "    </tr>\n",
       "  </thead>\n",
       "  <tbody>\n",
       "    <tr>\n",
       "      <th>0</th>\n",
       "      <td>Thu Jan 25 22:20:35 2018</td>\n",
       "      <td>Category:Machine learning</td>\n",
       "      <td>0</td>\n",
       "    </tr>\n",
       "    <tr>\n",
       "      <th>1</th>\n",
       "      <td>Thu Jan 25 22:22:10 2018</td>\n",
       "      <td>Category:Machine learning</td>\n",
       "      <td>0</td>\n",
       "    </tr>\n",
       "    <tr>\n",
       "      <th>2</th>\n",
       "      <td>Thu Jan 25 22:31:22 2018</td>\n",
       "      <td>Category:Machine learning</td>\n",
       "      <td>50</td>\n",
       "    </tr>\n",
       "    <tr>\n",
       "      <th>3</th>\n",
       "      <td>Thu Jan 25 23:27:09 2018</td>\n",
       "      <td>Category:Business software</td>\n",
       "      <td>207</td>\n",
       "    </tr>\n",
       "  </tbody>\n",
       "</table>\n",
       "</div>"
      ],
      "text/plain": [
       "                     loaded                  master_cat  sub_cats_added\n",
       "0  Thu Jan 25 22:20:35 2018   Category:Machine learning               0\n",
       "1  Thu Jan 25 22:22:10 2018   Category:Machine learning               0\n",
       "2  Thu Jan 25 22:31:22 2018   Category:Machine learning              50\n",
       "3  Thu Jan 25 23:27:09 2018  Category:Business software             207"
      ]
     },
     "metadata": {},
     "output_type": "display_data"
    }
   ],
   "source": [
    "loads_cllr=myWiki_dbr.loads_collection\n",
    "cursor=loads_cllr.find()\n",
    "cdocs=pd.DataFrame(list(cursor))\n",
    "try:\n",
    "    cdocs=cdocs.drop('_id',1)\n",
    "except:\n",
    "    cdocs\n",
    "display(cdocs)\n",
    "    "
   ]
  },
  {
   "cell_type": "code",
   "execution_count": 28,
   "metadata": {},
   "outputs": [
    {
     "data": {
      "text/plain": [
       "257"
      ]
     },
     "metadata": {},
     "output_type": "display_data"
    }
   ],
   "source": [
    "category_cllr=myWiki_dbr.category_collection\n",
    "cursor=category_cllr.find().count()\n",
    "display(cursor)"
   ]
  },
  {
   "cell_type": "code",
   "execution_count": 29,
   "metadata": {},
   "outputs": [
    {
     "data": {
      "text/plain": [
       "255"
      ]
     },
     "metadata": {},
     "output_type": "display_data"
    }
   ],
   "source": [
    "pagetest_cllr=myWiki_dbr.pagetest_collection\n",
    "cursor=pagetest_cllr.find().count()\n",
    "display(cursor)"
   ]
  },
  {
   "cell_type": "code",
   "execution_count": 31,
   "metadata": {},
   "outputs": [
    {
     "data": {
      "text/plain": [
       "5481"
      ]
     },
     "metadata": {},
     "output_type": "display_data"
    }
   ],
   "source": [
    "page_cllr=myWiki_dbr.page_collection\n",
    "cursor=page_cllr.find().count()\n",
    "display(cursor)"
   ]
  },
  {
   "cell_type": "code",
   "execution_count": 32,
   "metadata": {},
   "outputs": [
    {
     "data": {
      "text/html": [
       "<div>\n",
       "<table border=\"1\" class=\"dataframe\">\n",
       "  <thead>\n",
       "    <tr style=\"text-align: right;\">\n",
       "      <th></th>\n",
       "      <th>_id</th>\n",
       "      <th>loaded</th>\n",
       "      <th>master_cat</th>\n",
       "      <th>pages_added</th>\n",
       "    </tr>\n",
       "  </thead>\n",
       "  <tbody>\n",
       "    <tr>\n",
       "      <th>0</th>\n",
       "      <td>5a6a16d7cd7a8900a1f8496a</td>\n",
       "      <td>Thu Jan 25 17:41:43 2018</td>\n",
       "      <td>Category:Classification algorithms</td>\n",
       "      <td>255</td>\n",
       "    </tr>\n",
       "  </tbody>\n",
       "</table>\n",
       "</div>"
      ],
      "text/plain": [
       "                        _id                    loaded  \\\n",
       "0  5a6a16d7cd7a8900a1f8496a  Thu Jan 25 17:41:43 2018   \n",
       "\n",
       "                           master_cat  pages_added  \n",
       "0  Category:Classification algorithms          255  "
      ]
     },
     "execution_count": 32,
     "metadata": {},
     "output_type": "execute_result"
    }
   ],
   "source": [
    "pagetestload_cllr=myWiki_dbr.pagetestload_collection\n",
    "cursor=pagetestload_cllr.find()\n",
    "doc=list(cursor)\n",
    "pd.DataFrame(doc)"
   ]
  },
  {
   "cell_type": "code",
   "execution_count": 33,
   "metadata": {},
   "outputs": [
    {
     "data": {
      "text/html": [
       "<div>\n",
       "<table border=\"1\" class=\"dataframe\">\n",
       "  <thead>\n",
       "    <tr style=\"text-align: right;\">\n",
       "      <th></th>\n",
       "      <th>loaded</th>\n",
       "      <th>master_cat</th>\n",
       "      <th>pages_added</th>\n",
       "    </tr>\n",
       "  </thead>\n",
       "  <tbody>\n",
       "    <tr>\n",
       "      <th>0</th>\n",
       "      <td>Thu Jan 25 22:49:09 2018</td>\n",
       "      <td>Category:Machine learning</td>\n",
       "      <td>1130</td>\n",
       "    </tr>\n",
       "    <tr>\n",
       "      <th>1</th>\n",
       "      <td>Fri Jan 26 03:42:44 2018</td>\n",
       "      <td>Category:Business software</td>\n",
       "      <td>4351</td>\n",
       "    </tr>\n",
       "  </tbody>\n",
       "</table>\n",
       "</div>"
      ],
      "text/plain": [
       "                     loaded                  master_cat  pages_added\n",
       "0  Thu Jan 25 22:49:09 2018   Category:Machine learning         1130\n",
       "1  Fri Jan 26 03:42:44 2018  Category:Business software         4351"
      ]
     },
     "metadata": {},
     "output_type": "display_data"
    }
   ],
   "source": [
    "pageload_cllr=myWiki_dbr.pageload_collection\n",
    "cursor=pageload_cllr.find()\n",
    "pdocs=pd.DataFrame(list(cursor))\n",
    "try: \n",
    "    pdocs=pdocs.drop('_id',1)\n",
    "except:\n",
    "    pdocs\n",
    "display(pdocs)"
   ]
  }
 ],
 "metadata": {
  "kernelspec": {
   "display_name": "Python 3",
   "language": "python",
   "name": "python3"
  },
  "language_info": {
   "codemirror_mode": {
    "name": "ipython",
    "version": 3
   },
   "file_extension": ".py",
   "mimetype": "text/x-python",
   "name": "python",
   "nbconvert_exporter": "python",
   "pygments_lexer": "ipython3",
   "version": "3.6.3"
  }
 },
 "nbformat": 4,
 "nbformat_minor": 2
}
