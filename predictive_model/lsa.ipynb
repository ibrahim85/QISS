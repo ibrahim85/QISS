{
 "cells": [
  {
   "cell_type": "code",
   "execution_count": 2,
   "metadata": {},
   "outputs": [],
   "source": [
    "import re\n",
    "import requests\n",
    "import pandas as pd\n",
    "import numpy as np\n",
    "from tqdm import tqdm_notebook\n",
    "import pymongo\n",
    "import json\n",
    "\n",
    "from nltk.corpus import stopwords\n",
    "from spacy.lang.en import English\n",
    "from nltk.stem.porter import PorterStemmer\n",
    "import nltk\n",
    "from nltk.corpus import stopwords\n",
    "from spacy.lang.en import STOP_WORDS\n",
    "nlp = English()\n",
    "stop = set(stopwords.words('english'))\n",
    "from sklearn.feature_extraction.text import CountVectorizer, TfidfVectorizer, HashingVectorizer"
   ]
  },
  {
   "cell_type": "code",
   "execution_count": 3,
   "metadata": {
    "collapsed": true
   },
   "outputs": [],
   "source": [
    "client = pymongo.MongoClient('localhost', 27017)\n",
    "\n",
    "wiki_db = client.wikipedia\n",
    "\n",
    "wiki_col = wiki_db.my_collection"
   ]
  },
  {
   "cell_type": "code",
   "execution_count": 4,
   "metadata": {},
   "outputs": [
    {
     "data": {
      "text/plain": [
       "(['local', 'myWiki', 'wikipedia'], ['my_collection'])"
      ]
     },
     "execution_count": 4,
     "metadata": {},
     "output_type": "execute_result"
    }
   ],
   "source": [
    "client.database_names(), wiki_db.collection_names()"
   ]
  },
  {
   "cell_type": "code",
   "execution_count": 5,
   "metadata": {},
   "outputs": [
    {
     "data": {
      "text/plain": [
       "5785"
      ]
     },
     "execution_count": 5,
     "metadata": {},
     "output_type": "execute_result"
    }
   ],
   "source": [
    "wiki_col.count()"
   ]
  },
  {
   "cell_type": "code",
   "execution_count": 6,
   "metadata": {
    "collapsed": true
   },
   "outputs": [],
   "source": [
    "cursor = wiki_col.find()"
   ]
  },
  {
   "cell_type": "code",
   "execution_count": 7,
   "metadata": {
    "collapsed": true
   },
   "outputs": [],
   "source": [
    "wiki_df = pd.DataFrame(list(cursor))"
   ]
  },
  {
   "cell_type": "code",
   "execution_count": 8,
   "metadata": {},
   "outputs": [
    {
     "data": {
      "text/plain": [
       "Business software    4184\n",
       "Machine learning     1601\n",
       "Name: main_cat, dtype: int64"
      ]
     },
     "execution_count": 8,
     "metadata": {},
     "output_type": "execute_result"
    }
   ],
   "source": [
    "wiki_df['main_cat'].value_counts()"
   ]
  },
  {
   "cell_type": "code",
   "execution_count": 9,
   "metadata": {},
   "outputs": [
    {
     "data": {
      "text/html": [
       "<div>\n",
       "<style>\n",
       "    .dataframe thead tr:only-child th {\n",
       "        text-align: right;\n",
       "    }\n",
       "\n",
       "    .dataframe thead th {\n",
       "        text-align: left;\n",
       "    }\n",
       "\n",
       "    .dataframe tbody tr th {\n",
       "        vertical-align: top;\n",
       "    }\n",
       "</style>\n",
       "<table border=\"1\" class=\"dataframe\">\n",
       "  <thead>\n",
       "    <tr style=\"text-align: right;\">\n",
       "      <th></th>\n",
       "      <th>_id</th>\n",
       "      <th>article</th>\n",
       "      <th>content</th>\n",
       "      <th>main_cat</th>\n",
       "      <th>page_id</th>\n",
       "      <th>sub_cat</th>\n",
       "    </tr>\n",
       "  </thead>\n",
       "  <tbody>\n",
       "    <tr>\n",
       "      <th>0</th>\n",
       "      <td>5ae72dda023fe31d68a69cf4</td>\n",
       "      <td>Business software</td>\n",
       "      <td>software make business business sell softwar...</td>\n",
       "      <td>Business software</td>\n",
       "      <td>1037763</td>\n",
       "      <td>Business software</td>\n",
       "    </tr>\n",
       "    <tr>\n",
       "      <th>1</th>\n",
       "      <td>5ae72ddb023fe31d68a69cf5</td>\n",
       "      <td>AccuSystems</td>\n",
       "      <td>multiple issue orphan date february notabili...</td>\n",
       "      <td>Business software</td>\n",
       "      <td>41270069</td>\n",
       "      <td>Business software</td>\n",
       "    </tr>\n",
       "    <tr>\n",
       "      <th>2</th>\n",
       "      <td>5ae72ddb023fe31d68a69cf6</td>\n",
       "      <td>Active policy management</td>\n",
       "      <td>active policy management business orient ent...</td>\n",
       "      <td>Business software</td>\n",
       "      <td>5211212</td>\n",
       "      <td>Business software</td>\n",
       "    </tr>\n",
       "    <tr>\n",
       "      <th>3</th>\n",
       "      <td>5ae72ddb023fe31d68a69cf7</td>\n",
       "      <td>Alexandria (library software)</td>\n",
       "      <td>use alexandria alexandria browser base softw...</td>\n",
       "      <td>Business software</td>\n",
       "      <td>28502793</td>\n",
       "      <td>Business software</td>\n",
       "    </tr>\n",
       "    <tr>\n",
       "      <th>4</th>\n",
       "      <td>5ae72ddb023fe31d68a69cf8</td>\n",
       "      <td>Alteryx</td>\n",
       "      <td>infobox company name alteryx inc logo altery...</td>\n",
       "      <td>Business software</td>\n",
       "      <td>44133735</td>\n",
       "      <td>Business software</td>\n",
       "    </tr>\n",
       "  </tbody>\n",
       "</table>\n",
       "</div>"
      ],
      "text/plain": [
       "                        _id                        article  \\\n",
       "0  5ae72dda023fe31d68a69cf4              Business software   \n",
       "1  5ae72ddb023fe31d68a69cf5                    AccuSystems   \n",
       "2  5ae72ddb023fe31d68a69cf6       Active policy management   \n",
       "3  5ae72ddb023fe31d68a69cf7  Alexandria (library software)   \n",
       "4  5ae72ddb023fe31d68a69cf8                        Alteryx   \n",
       "\n",
       "                                             content           main_cat  \\\n",
       "0    software make business business sell softwar...  Business software   \n",
       "1    multiple issue orphan date february notabili...  Business software   \n",
       "2    active policy management business orient ent...  Business software   \n",
       "3    use alexandria alexandria browser base softw...  Business software   \n",
       "4    infobox company name alteryx inc logo altery...  Business software   \n",
       "\n",
       "    page_id            sub_cat  \n",
       "0   1037763  Business software  \n",
       "1  41270069  Business software  \n",
       "2   5211212  Business software  \n",
       "3  28502793  Business software  \n",
       "4  44133735  Business software  "
      ]
     },
     "execution_count": 9,
     "metadata": {},
     "output_type": "execute_result"
    }
   ],
   "source": [
    "wiki_df.head()"
   ]
  },
  {
   "cell_type": "code",
   "execution_count": 10,
   "metadata": {
    "collapsed": true
   },
   "outputs": [],
   "source": [
    "wiki_df.drop_duplicates(subset=['page_id'], inplace=True)"
   ]
  },
  {
   "cell_type": "markdown",
   "metadata": {},
   "source": [
    "## Use TFIDF to vectorize words"
   ]
  },
  {
   "cell_type": "code",
   "execution_count": 11,
   "metadata": {
    "collapsed": true
   },
   "outputs": [],
   "source": [
    "tfidf_vectorizer = TfidfVectorizer(min_df = 20, stop_words = 'english')\n",
    "\n",
    "article_term_matrix_sps = tfidf_vectorizer.fit_transform(wiki_df.content)\n",
    "\n",
    "article_term_matrix_df = pd.DataFrame(article_term_matrix_sps.toarray(),\n",
    "                                       index=wiki_df.index,\n",
    "                                       columns=tfidf_vectorizer.get_feature_names())"
   ]
  },
  {
   "cell_type": "code",
   "execution_count": 12,
   "metadata": {},
   "outputs": [
    {
     "data": {
      "text/html": [
       "<div>\n",
       "<style>\n",
       "    .dataframe thead tr:only-child th {\n",
       "        text-align: right;\n",
       "    }\n",
       "\n",
       "    .dataframe thead th {\n",
       "        text-align: left;\n",
       "    }\n",
       "\n",
       "    .dataframe tbody tr th {\n",
       "        vertical-align: top;\n",
       "    }\n",
       "</style>\n",
       "<table border=\"1\" class=\"dataframe\">\n",
       "  <thead>\n",
       "    <tr style=\"text-align: right;\">\n",
       "      <th></th>\n",
       "      <th>aa</th>\n",
       "      <th>aaai</th>\n",
       "      <th>aaron</th>\n",
       "      <th>ab</th>\n",
       "      <th>abandon</th>\n",
       "      <th>abbrev</th>\n",
       "      <th>abbreviate</th>\n",
       "      <th>abbreviation</th>\n",
       "      <th>ability</th>\n",
       "      <th>able</th>\n",
       "      <th>...</th>\n",
       "      <th>zero</th>\n",
       "      <th>zhang</th>\n",
       "      <th>zhou</th>\n",
       "      <th>zip</th>\n",
       "      <th>zoho</th>\n",
       "      <th>zone</th>\n",
       "      <th>zoo</th>\n",
       "      <th>zoom</th>\n",
       "      <th>zope</th>\n",
       "      <th>zx</th>\n",
       "    </tr>\n",
       "  </thead>\n",
       "  <tbody>\n",
       "    <tr>\n",
       "      <th>0</th>\n",
       "      <td>0.0</td>\n",
       "      <td>0.0</td>\n",
       "      <td>0.0</td>\n",
       "      <td>0.0</td>\n",
       "      <td>0.0</td>\n",
       "      <td>0.0</td>\n",
       "      <td>0.0</td>\n",
       "      <td>0.0</td>\n",
       "      <td>0.0</td>\n",
       "      <td>0.0</td>\n",
       "      <td>...</td>\n",
       "      <td>0.0</td>\n",
       "      <td>0.0</td>\n",
       "      <td>0.0</td>\n",
       "      <td>0.0</td>\n",
       "      <td>0.0</td>\n",
       "      <td>0.0</td>\n",
       "      <td>0.0</td>\n",
       "      <td>0.0</td>\n",
       "      <td>0.0</td>\n",
       "      <td>0.0</td>\n",
       "    </tr>\n",
       "    <tr>\n",
       "      <th>1</th>\n",
       "      <td>0.0</td>\n",
       "      <td>0.0</td>\n",
       "      <td>0.0</td>\n",
       "      <td>0.0</td>\n",
       "      <td>0.0</td>\n",
       "      <td>0.0</td>\n",
       "      <td>0.0</td>\n",
       "      <td>0.0</td>\n",
       "      <td>0.0</td>\n",
       "      <td>0.0</td>\n",
       "      <td>...</td>\n",
       "      <td>0.0</td>\n",
       "      <td>0.0</td>\n",
       "      <td>0.0</td>\n",
       "      <td>0.0</td>\n",
       "      <td>0.0</td>\n",
       "      <td>0.0</td>\n",
       "      <td>0.0</td>\n",
       "      <td>0.0</td>\n",
       "      <td>0.0</td>\n",
       "      <td>0.0</td>\n",
       "    </tr>\n",
       "    <tr>\n",
       "      <th>2</th>\n",
       "      <td>0.0</td>\n",
       "      <td>0.0</td>\n",
       "      <td>0.0</td>\n",
       "      <td>0.0</td>\n",
       "      <td>0.0</td>\n",
       "      <td>0.0</td>\n",
       "      <td>0.0</td>\n",
       "      <td>0.0</td>\n",
       "      <td>0.0</td>\n",
       "      <td>0.0</td>\n",
       "      <td>...</td>\n",
       "      <td>0.0</td>\n",
       "      <td>0.0</td>\n",
       "      <td>0.0</td>\n",
       "      <td>0.0</td>\n",
       "      <td>0.0</td>\n",
       "      <td>0.0</td>\n",
       "      <td>0.0</td>\n",
       "      <td>0.0</td>\n",
       "      <td>0.0</td>\n",
       "      <td>0.0</td>\n",
       "    </tr>\n",
       "    <tr>\n",
       "      <th>3</th>\n",
       "      <td>0.0</td>\n",
       "      <td>0.0</td>\n",
       "      <td>0.0</td>\n",
       "      <td>0.0</td>\n",
       "      <td>0.0</td>\n",
       "      <td>0.0</td>\n",
       "      <td>0.0</td>\n",
       "      <td>0.0</td>\n",
       "      <td>0.0</td>\n",
       "      <td>0.0</td>\n",
       "      <td>...</td>\n",
       "      <td>0.0</td>\n",
       "      <td>0.0</td>\n",
       "      <td>0.0</td>\n",
       "      <td>0.0</td>\n",
       "      <td>0.0</td>\n",
       "      <td>0.0</td>\n",
       "      <td>0.0</td>\n",
       "      <td>0.0</td>\n",
       "      <td>0.0</td>\n",
       "      <td>0.0</td>\n",
       "    </tr>\n",
       "    <tr>\n",
       "      <th>4</th>\n",
       "      <td>0.0</td>\n",
       "      <td>0.0</td>\n",
       "      <td>0.0</td>\n",
       "      <td>0.0</td>\n",
       "      <td>0.0</td>\n",
       "      <td>0.0</td>\n",
       "      <td>0.0</td>\n",
       "      <td>0.0</td>\n",
       "      <td>0.0</td>\n",
       "      <td>0.0</td>\n",
       "      <td>...</td>\n",
       "      <td>0.0</td>\n",
       "      <td>0.0</td>\n",
       "      <td>0.0</td>\n",
       "      <td>0.0</td>\n",
       "      <td>0.0</td>\n",
       "      <td>0.0</td>\n",
       "      <td>0.0</td>\n",
       "      <td>0.0</td>\n",
       "      <td>0.0</td>\n",
       "      <td>0.0</td>\n",
       "    </tr>\n",
       "  </tbody>\n",
       "</table>\n",
       "<p>5 rows × 5108 columns</p>\n",
       "</div>"
      ],
      "text/plain": [
       "    aa  aaai  aaron   ab  abandon  abbrev  abbreviate  abbreviation  ability  \\\n",
       "0  0.0   0.0    0.0  0.0      0.0     0.0         0.0           0.0      0.0   \n",
       "1  0.0   0.0    0.0  0.0      0.0     0.0         0.0           0.0      0.0   \n",
       "2  0.0   0.0    0.0  0.0      0.0     0.0         0.0           0.0      0.0   \n",
       "3  0.0   0.0    0.0  0.0      0.0     0.0         0.0           0.0      0.0   \n",
       "4  0.0   0.0    0.0  0.0      0.0     0.0         0.0           0.0      0.0   \n",
       "\n",
       "   able ...   zero  zhang  zhou  zip  zoho  zone  zoo  zoom  zope   zx  \n",
       "0   0.0 ...    0.0    0.0   0.0  0.0   0.0   0.0  0.0   0.0   0.0  0.0  \n",
       "1   0.0 ...    0.0    0.0   0.0  0.0   0.0   0.0  0.0   0.0   0.0  0.0  \n",
       "2   0.0 ...    0.0    0.0   0.0  0.0   0.0   0.0  0.0   0.0   0.0  0.0  \n",
       "3   0.0 ...    0.0    0.0   0.0  0.0   0.0   0.0  0.0   0.0   0.0  0.0  \n",
       "4   0.0 ...    0.0    0.0   0.0  0.0   0.0   0.0  0.0   0.0   0.0  0.0  \n",
       "\n",
       "[5 rows x 5108 columns]"
      ]
     },
     "execution_count": 12,
     "metadata": {},
     "output_type": "execute_result"
    }
   ],
   "source": [
    "article_term_matrix_df.head()\n"
   ]
  },
  {
   "cell_type": "code",
   "execution_count": 13,
   "metadata": {
    "collapsed": true
   },
   "outputs": [],
   "source": [
    "# pd.concat([wiki_df.article, wiki_df.content, article_term_matrix_df], axis=1).sample(4)"
   ]
  },
  {
   "cell_type": "markdown",
   "metadata": {},
   "source": [
    "## Use SVD to reduce number of features"
   ]
  },
  {
   "cell_type": "code",
   "execution_count": 14,
   "metadata": {
    "collapsed": true
   },
   "outputs": [],
   "source": [
    "from sklearn.decomposition import TruncatedSVD"
   ]
  },
  {
   "cell_type": "code",
   "execution_count": 15,
   "metadata": {
    "collapsed": true
   },
   "outputs": [],
   "source": [
    "n_components = 500\n",
    "SVD = TruncatedSVD(n_components)\n",
    "component_names = [\"component_\"+str(i+1) for i in range(n_components)]"
   ]
  },
  {
   "cell_type": "code",
   "execution_count": 16,
   "metadata": {
    "collapsed": true
   },
   "outputs": [],
   "source": [
    "svd_matrix = SVD.fit_transform(article_term_matrix_df)"
   ]
  },
  {
   "cell_type": "code",
   "execution_count": 17,
   "metadata": {},
   "outputs": [
    {
     "data": {
      "text/plain": [
       "0.64156935538408566"
      ]
     },
     "execution_count": 17,
     "metadata": {},
     "output_type": "execute_result"
    }
   ],
   "source": [
    "sum(SVD.explained_variance_ratio_)"
   ]
  },
  {
   "cell_type": "code",
   "execution_count": 18,
   "metadata": {
    "collapsed": true
   },
   "outputs": [],
   "source": [
    "svd_df = pd.DataFrame(svd_matrix,\n",
    "                      index=article_term_matrix_df.index,\n",
    "                      columns=component_names)\n",
    "svd_df['article'] = wiki_df.article\n",
    "\n",
    "vocabulary_expression = pd.DataFrame(SVD.components_,\n",
    "                                     index=component_names,\n",
    "                                     columns=tfidf_vectorizer.get_feature_names()).T"
   ]
  },
  {
   "cell_type": "code",
   "execution_count": 19,
   "metadata": {},
   "outputs": [
    {
     "data": {
      "text/html": [
       "<div>\n",
       "<style>\n",
       "    .dataframe thead tr:only-child th {\n",
       "        text-align: right;\n",
       "    }\n",
       "\n",
       "    .dataframe thead th {\n",
       "        text-align: left;\n",
       "    }\n",
       "\n",
       "    .dataframe tbody tr th {\n",
       "        vertical-align: top;\n",
       "    }\n",
       "</style>\n",
       "<table border=\"1\" class=\"dataframe\">\n",
       "  <thead>\n",
       "    <tr style=\"text-align: right;\">\n",
       "      <th></th>\n",
       "      <th>component_1</th>\n",
       "      <th>component_2</th>\n",
       "      <th>component_3</th>\n",
       "      <th>component_4</th>\n",
       "      <th>component_5</th>\n",
       "      <th>component_6</th>\n",
       "      <th>component_7</th>\n",
       "      <th>component_8</th>\n",
       "      <th>component_9</th>\n",
       "      <th>component_10</th>\n",
       "      <th>...</th>\n",
       "      <th>component_492</th>\n",
       "      <th>component_493</th>\n",
       "      <th>component_494</th>\n",
       "      <th>component_495</th>\n",
       "      <th>component_496</th>\n",
       "      <th>component_497</th>\n",
       "      <th>component_498</th>\n",
       "      <th>component_499</th>\n",
       "      <th>component_500</th>\n",
       "      <th>article</th>\n",
       "    </tr>\n",
       "  </thead>\n",
       "  <tbody>\n",
       "    <tr>\n",
       "      <th>0</th>\n",
       "      <td>0.407152</td>\n",
       "      <td>-0.061202</td>\n",
       "      <td>-0.050746</td>\n",
       "      <td>0.106423</td>\n",
       "      <td>0.128751</td>\n",
       "      <td>-0.037402</td>\n",
       "      <td>-0.258355</td>\n",
       "      <td>-0.062226</td>\n",
       "      <td>0.006932</td>\n",
       "      <td>-0.082674</td>\n",
       "      <td>...</td>\n",
       "      <td>0.028478</td>\n",
       "      <td>-0.004628</td>\n",
       "      <td>0.027605</td>\n",
       "      <td>0.006093</td>\n",
       "      <td>-0.007170</td>\n",
       "      <td>-0.026615</td>\n",
       "      <td>0.029868</td>\n",
       "      <td>0.009895</td>\n",
       "      <td>0.011481</td>\n",
       "      <td>Business software</td>\n",
       "    </tr>\n",
       "    <tr>\n",
       "      <th>1</th>\n",
       "      <td>0.385392</td>\n",
       "      <td>-0.062778</td>\n",
       "      <td>-0.175276</td>\n",
       "      <td>0.279622</td>\n",
       "      <td>-0.052387</td>\n",
       "      <td>-0.061371</td>\n",
       "      <td>0.028299</td>\n",
       "      <td>-0.030311</td>\n",
       "      <td>-0.041162</td>\n",
       "      <td>0.072930</td>\n",
       "      <td>...</td>\n",
       "      <td>0.016704</td>\n",
       "      <td>0.009657</td>\n",
       "      <td>-0.005092</td>\n",
       "      <td>-0.023540</td>\n",
       "      <td>0.016636</td>\n",
       "      <td>-0.015383</td>\n",
       "      <td>0.007208</td>\n",
       "      <td>0.007222</td>\n",
       "      <td>-0.018230</td>\n",
       "      <td>AccuSystems</td>\n",
       "    </tr>\n",
       "    <tr>\n",
       "      <th>2</th>\n",
       "      <td>0.185410</td>\n",
       "      <td>-0.030271</td>\n",
       "      <td>-0.017597</td>\n",
       "      <td>0.069564</td>\n",
       "      <td>0.099500</td>\n",
       "      <td>0.038695</td>\n",
       "      <td>-0.052429</td>\n",
       "      <td>0.024344</td>\n",
       "      <td>-0.044205</td>\n",
       "      <td>-0.063128</td>\n",
       "      <td>...</td>\n",
       "      <td>-0.010909</td>\n",
       "      <td>0.019818</td>\n",
       "      <td>-0.005692</td>\n",
       "      <td>-0.004664</td>\n",
       "      <td>0.056210</td>\n",
       "      <td>-0.040750</td>\n",
       "      <td>-0.003651</td>\n",
       "      <td>0.030794</td>\n",
       "      <td>0.032386</td>\n",
       "      <td>Active policy management</td>\n",
       "    </tr>\n",
       "    <tr>\n",
       "      <th>3</th>\n",
       "      <td>0.221834</td>\n",
       "      <td>-0.038207</td>\n",
       "      <td>-0.036519</td>\n",
       "      <td>-0.018732</td>\n",
       "      <td>0.003068</td>\n",
       "      <td>-0.001906</td>\n",
       "      <td>0.008677</td>\n",
       "      <td>-0.014487</td>\n",
       "      <td>-0.001963</td>\n",
       "      <td>-0.012935</td>\n",
       "      <td>...</td>\n",
       "      <td>-0.015089</td>\n",
       "      <td>0.038120</td>\n",
       "      <td>0.025127</td>\n",
       "      <td>-0.034232</td>\n",
       "      <td>0.024791</td>\n",
       "      <td>-0.002765</td>\n",
       "      <td>-0.005300</td>\n",
       "      <td>-0.042532</td>\n",
       "      <td>0.003596</td>\n",
       "      <td>Alexandria (library software)</td>\n",
       "    </tr>\n",
       "    <tr>\n",
       "      <th>4</th>\n",
       "      <td>0.266758</td>\n",
       "      <td>-0.037781</td>\n",
       "      <td>-0.054639</td>\n",
       "      <td>0.228771</td>\n",
       "      <td>-0.040750</td>\n",
       "      <td>-0.050478</td>\n",
       "      <td>0.057690</td>\n",
       "      <td>-0.018860</td>\n",
       "      <td>-0.067791</td>\n",
       "      <td>0.042618</td>\n",
       "      <td>...</td>\n",
       "      <td>-0.003931</td>\n",
       "      <td>-0.017374</td>\n",
       "      <td>0.000178</td>\n",
       "      <td>-0.021236</td>\n",
       "      <td>-0.011524</td>\n",
       "      <td>0.003003</td>\n",
       "      <td>0.000365</td>\n",
       "      <td>0.000252</td>\n",
       "      <td>-0.025003</td>\n",
       "      <td>Alteryx</td>\n",
       "    </tr>\n",
       "  </tbody>\n",
       "</table>\n",
       "<p>5 rows × 501 columns</p>\n",
       "</div>"
      ],
      "text/plain": [
       "   component_1  component_2  component_3  component_4  component_5  \\\n",
       "0     0.407152    -0.061202    -0.050746     0.106423     0.128751   \n",
       "1     0.385392    -0.062778    -0.175276     0.279622    -0.052387   \n",
       "2     0.185410    -0.030271    -0.017597     0.069564     0.099500   \n",
       "3     0.221834    -0.038207    -0.036519    -0.018732     0.003068   \n",
       "4     0.266758    -0.037781    -0.054639     0.228771    -0.040750   \n",
       "\n",
       "   component_6  component_7  component_8  component_9  component_10  \\\n",
       "0    -0.037402    -0.258355    -0.062226     0.006932     -0.082674   \n",
       "1    -0.061371     0.028299    -0.030311    -0.041162      0.072930   \n",
       "2     0.038695    -0.052429     0.024344    -0.044205     -0.063128   \n",
       "3    -0.001906     0.008677    -0.014487    -0.001963     -0.012935   \n",
       "4    -0.050478     0.057690    -0.018860    -0.067791      0.042618   \n",
       "\n",
       "               ...                component_492  component_493  component_494  \\\n",
       "0              ...                     0.028478      -0.004628       0.027605   \n",
       "1              ...                     0.016704       0.009657      -0.005092   \n",
       "2              ...                    -0.010909       0.019818      -0.005692   \n",
       "3              ...                    -0.015089       0.038120       0.025127   \n",
       "4              ...                    -0.003931      -0.017374       0.000178   \n",
       "\n",
       "   component_495  component_496  component_497  component_498  component_499  \\\n",
       "0       0.006093      -0.007170      -0.026615       0.029868       0.009895   \n",
       "1      -0.023540       0.016636      -0.015383       0.007208       0.007222   \n",
       "2      -0.004664       0.056210      -0.040750      -0.003651       0.030794   \n",
       "3      -0.034232       0.024791      -0.002765      -0.005300      -0.042532   \n",
       "4      -0.021236      -0.011524       0.003003       0.000365       0.000252   \n",
       "\n",
       "   component_500                        article  \n",
       "0       0.011481              Business software  \n",
       "1      -0.018230                    AccuSystems  \n",
       "2       0.032386       Active policy management  \n",
       "3       0.003596  Alexandria (library software)  \n",
       "4      -0.025003                        Alteryx  \n",
       "\n",
       "[5 rows x 501 columns]"
      ]
     },
     "execution_count": 19,
     "metadata": {},
     "output_type": "execute_result"
    }
   ],
   "source": [
    "svd_df.head()"
   ]
  },
  {
   "cell_type": "code",
   "execution_count": 20,
   "metadata": {
    "collapsed": true
   },
   "outputs": [],
   "source": [
    "for i in range(1,11):\n",
    "    vocabulary_expression['abs_component_{}'.format(i)] = \\\n",
    "    np.abs(vocabulary_expression['component_{}'.format(i)])"
   ]
  },
  {
   "cell_type": "code",
   "execution_count": 21,
   "metadata": {
    "scrolled": true
   },
   "outputs": [
    {
     "data": {
      "text/plain": [
       "software      0.291182\n",
       "company       0.180182\n",
       "management    0.168654\n",
       "category      0.168381\n",
       "game          0.140527\n",
       "com           0.136635\n",
       "http          0.134051\n",
       "Name: abs_component_1, dtype: float64"
      ]
     },
     "execution_count": 21,
     "metadata": {},
     "output_type": "execute_result"
    }
   ],
   "source": [
    "vocabulary_expression['abs_component_1'].sort_values(ascending=False).head(7)"
   ]
  },
  {
   "cell_type": "markdown",
   "metadata": {},
   "source": [
    "## Create function to search for top 5 related articles"
   ]
  },
  {
   "cell_type": "code",
   "execution_count": 22,
   "metadata": {
    "collapsed": true
   },
   "outputs": [],
   "source": [
    "from sklearn.metrics.pairwise import cosine_similarity"
   ]
  },
  {
   "cell_type": "code",
   "execution_count": 23,
   "metadata": {
    "collapsed": true
   },
   "outputs": [],
   "source": [
    "def search_for_pages(search_terms):\n",
    "    '''\n",
    "    Takes search terms and returns the top 5 articles within the wikipedia corpus \n",
    "    that relate to that search terms based on cosine similarity.\n",
    "    \n",
    "    Params\n",
    "    ------\n",
    "    search_terms: str\n",
    "    A string of words  \n",
    "    \n",
    "    Returns\n",
    "    -------\n",
    "    A Dataframe of the top 5 articles with the highest cosine similarities.\n",
    "     \n",
    "    '''\n",
    "    \n",
    "    temp_svd_df = svd_df.copy()\n",
    "    \n",
    "    search_terms = [search_terms]\n",
    "\n",
    "    search_terms_encoded = tfidf_vectorizer.transform(search_terms)\n",
    "    \n",
    "    search_term_svd_vector = SVD.transform(search_terms_encoded)\n",
    "    \n",
    "    temp_svd_df['cosine_sim'] = cosine_similarity(temp_svd_df.drop('article', axis=1), search_term_svd_vector)\n",
    "    \n",
    "    return temp_svd_df[['article', 'cosine_sim']].sort_values('cosine_sim', ascending=False).head(5)"
   ]
  },
  {
   "cell_type": "code",
   "execution_count": 24,
   "metadata": {
    "scrolled": false
   },
   "outputs": [
    {
     "data": {
      "text/html": [
       "<div>\n",
       "<style>\n",
       "    .dataframe thead tr:only-child th {\n",
       "        text-align: right;\n",
       "    }\n",
       "\n",
       "    .dataframe thead th {\n",
       "        text-align: left;\n",
       "    }\n",
       "\n",
       "    .dataframe tbody tr th {\n",
       "        vertical-align: top;\n",
       "    }\n",
       "</style>\n",
       "<table border=\"1\" class=\"dataframe\">\n",
       "  <thead>\n",
       "    <tr style=\"text-align: right;\">\n",
       "      <th></th>\n",
       "      <th>article</th>\n",
       "      <th>cosine_sim</th>\n",
       "    </tr>\n",
       "  </thead>\n",
       "  <tbody>\n",
       "    <tr>\n",
       "      <th>2898</th>\n",
       "      <td>Investor application</td>\n",
       "      <td>0.732956</td>\n",
       "    </tr>\n",
       "    <tr>\n",
       "      <th>287</th>\n",
       "      <td>Zuora</td>\n",
       "      <td>0.419735</td>\n",
       "    </tr>\n",
       "    <tr>\n",
       "      <th>107</th>\n",
       "      <td>Fundamental Analysis Software</td>\n",
       "      <td>0.395689</td>\n",
       "    </tr>\n",
       "    <tr>\n",
       "      <th>854</th>\n",
       "      <td>Moody's Corporation</td>\n",
       "      <td>0.377970</td>\n",
       "    </tr>\n",
       "    <tr>\n",
       "      <th>1644</th>\n",
       "      <td>FatKat (investment software)</td>\n",
       "      <td>0.365525</td>\n",
       "    </tr>\n",
       "  </tbody>\n",
       "</table>\n",
       "</div>"
      ],
      "text/plain": [
       "                            article  cosine_sim\n",
       "2898           Investor application    0.732956\n",
       "287                           Zuora    0.419735\n",
       "107   Fundamental Analysis Software    0.395689\n",
       "854             Moody's Corporation    0.377970\n",
       "1644   FatKat (investment software)    0.365525"
      ]
     },
     "execution_count": 24,
     "metadata": {},
     "output_type": "execute_result"
    }
   ],
   "source": [
    "search_for_pages('There are two types of investor apps: Native investor apps and HTML5 investor apps. Most investor apps offer access to public company content such as stock quotes, corporate materials')"
   ]
  },
  {
   "cell_type": "code",
   "execution_count": 25,
   "metadata": {},
   "outputs": [
    {
     "data": {
      "text/html": [
       "<div>\n",
       "<style>\n",
       "    .dataframe thead tr:only-child th {\n",
       "        text-align: right;\n",
       "    }\n",
       "\n",
       "    .dataframe thead th {\n",
       "        text-align: left;\n",
       "    }\n",
       "\n",
       "    .dataframe tbody tr th {\n",
       "        vertical-align: top;\n",
       "    }\n",
       "</style>\n",
       "<table border=\"1\" class=\"dataframe\">\n",
       "  <thead>\n",
       "    <tr style=\"text-align: right;\">\n",
       "      <th></th>\n",
       "      <th>article</th>\n",
       "      <th>cosine_sim</th>\n",
       "    </tr>\n",
       "  </thead>\n",
       "  <tbody>\n",
       "    <tr>\n",
       "      <th>4990</th>\n",
       "      <td>AAAI Conference on Artificial Intelligence</td>\n",
       "      <td>0.814546</td>\n",
       "    </tr>\n",
       "    <tr>\n",
       "      <th>4993</th>\n",
       "      <td>Conference on Artificial General Intelligence</td>\n",
       "      <td>0.685280</td>\n",
       "    </tr>\n",
       "    <tr>\n",
       "      <th>5677</th>\n",
       "      <td>Jürgen Schmidhuber</td>\n",
       "      <td>0.645105</td>\n",
       "    </tr>\n",
       "    <tr>\n",
       "      <th>4996</th>\n",
       "      <td>Dartmouth workshop</td>\n",
       "      <td>0.638792</td>\n",
       "    </tr>\n",
       "    <tr>\n",
       "      <th>5002</th>\n",
       "      <td>International Joint Conference on Artificial I...</td>\n",
       "      <td>0.625315</td>\n",
       "    </tr>\n",
       "  </tbody>\n",
       "</table>\n",
       "</div>"
      ],
      "text/plain": [
       "                                                article  cosine_sim\n",
       "4990         AAAI Conference on Artificial Intelligence    0.814546\n",
       "4993      Conference on Artificial General Intelligence    0.685280\n",
       "5677                                 Jürgen Schmidhuber    0.645105\n",
       "4996                                 Dartmouth workshop    0.638792\n",
       "5002  International Joint Conference on Artificial I...    0.625315"
      ]
     },
     "execution_count": 25,
     "metadata": {},
     "output_type": "execute_result"
    }
   ],
   "source": [
    "search_for_pages('Artificial intelligence')"
   ]
  }
 ],
 "metadata": {
  "kernelspec": {
   "display_name": "Python 3",
   "language": "python",
   "name": "python3"
  },
  "language_info": {
   "codemirror_mode": {
    "name": "ipython",
    "version": 3
   },
   "file_extension": ".py",
   "mimetype": "text/x-python",
   "name": "python",
   "nbconvert_exporter": "python",
   "pygments_lexer": "ipython3",
   "version": "3.6.3"
  }
 },
 "nbformat": 4,
 "nbformat_minor": 2
}
